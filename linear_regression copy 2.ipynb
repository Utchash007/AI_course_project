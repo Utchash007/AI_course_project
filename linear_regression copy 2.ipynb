{
 "cells": [
  {
   "cell_type": "code",
   "execution_count": 351,
   "id": "7b3dbc56",
   "metadata": {},
   "outputs": [],
   "source": [
    "import numpy as np\n",
    "import pandas as pd\n",
    "import matplotlib.pyplot as plt"
   ]
  },
  {
   "cell_type": "code",
   "execution_count": 352,
   "id": "a73eac4c",
   "metadata": {},
   "outputs": [],
   "source": [
    "dataset=pd.read_csv('29-bestsellers_with_categories.csv')"
   ]
  },
  {
   "cell_type": "code",
   "execution_count": 353,
   "id": "b770e1e6",
   "metadata": {},
   "outputs": [
    {
     "name": "stdout",
     "output_type": "stream",
     "text": [
      "missing data:\n",
      " Name           0\n",
      "Author         0\n",
      "User Rating    0\n",
      "Reviews        0\n",
      "Price          0\n",
      "Year           0\n",
      "Genre          0\n",
      "dtype: int64\n"
     ]
    }
   ],
   "source": [
    "missing_data=dataset.isnull().sum()\n",
    "print(\"missing data:\\n\",missing_data)"
   ]
  },
  {
   "cell_type": "code",
   "execution_count": 354,
   "id": "6cf7ef66",
   "metadata": {},
   "outputs": [
    {
     "data": {
      "application/vnd.microsoft.datawrangler.viewer.v0+json": {
       "columns": [
        {
         "name": "index",
         "rawType": "int64",
         "type": "integer"
        },
        {
         "name": "Name",
         "rawType": "object",
         "type": "string"
        },
        {
         "name": "Author",
         "rawType": "object",
         "type": "string"
        },
        {
         "name": "User Rating",
         "rawType": "float64",
         "type": "float"
        },
        {
         "name": "Reviews",
         "rawType": "int64",
         "type": "integer"
        },
        {
         "name": "Price",
         "rawType": "int64",
         "type": "integer"
        },
        {
         "name": "Year",
         "rawType": "int64",
         "type": "integer"
        },
        {
         "name": "Genre",
         "rawType": "object",
         "type": "string"
        }
       ],
       "ref": "180d016d-80ae-47d0-93ff-1c1f5569535e",
       "rows": [
        [
         "42",
         "Cabin Fever (Diary of a Wimpy Kid, Book 6)",
         "Jeff Kinney",
         "4.8",
         "4505",
         "0",
         "2011",
         "Fiction"
        ],
        [
         "71",
         "Diary of a Wimpy Kid: Hard Luck, Book 8",
         "Jeff Kinney",
         "4.8",
         "6812",
         "0",
         "2013",
         "Fiction"
        ],
        [
         "116",
         "Frozen (Little Golden Book)",
         "RH Disney",
         "4.7",
         "3642",
         "0",
         "2014",
         "Fiction"
        ],
        [
         "193",
         "JOURNEY TO THE ICE P",
         "RH Disney",
         "4.6",
         "978",
         "0",
         "2014",
         "Fiction"
        ],
        [
         "219",
         "Little Blue Truck",
         "Alice Schertle",
         "4.9",
         "1884",
         "0",
         "2014",
         "Fiction"
        ]
       ],
       "shape": {
        "columns": 7,
        "rows": 5
       }
      },
      "text/html": [
       "<div>\n",
       "<style scoped>\n",
       "    .dataframe tbody tr th:only-of-type {\n",
       "        vertical-align: middle;\n",
       "    }\n",
       "\n",
       "    .dataframe tbody tr th {\n",
       "        vertical-align: top;\n",
       "    }\n",
       "\n",
       "    .dataframe thead th {\n",
       "        text-align: right;\n",
       "    }\n",
       "</style>\n",
       "<table border=\"1\" class=\"dataframe\">\n",
       "  <thead>\n",
       "    <tr style=\"text-align: right;\">\n",
       "      <th></th>\n",
       "      <th>Name</th>\n",
       "      <th>Author</th>\n",
       "      <th>User Rating</th>\n",
       "      <th>Reviews</th>\n",
       "      <th>Price</th>\n",
       "      <th>Year</th>\n",
       "      <th>Genre</th>\n",
       "    </tr>\n",
       "  </thead>\n",
       "  <tbody>\n",
       "    <tr>\n",
       "      <th>42</th>\n",
       "      <td>Cabin Fever (Diary of a Wimpy Kid, Book 6)</td>\n",
       "      <td>Jeff Kinney</td>\n",
       "      <td>4.8</td>\n",
       "      <td>4505</td>\n",
       "      <td>0</td>\n",
       "      <td>2011</td>\n",
       "      <td>Fiction</td>\n",
       "    </tr>\n",
       "    <tr>\n",
       "      <th>71</th>\n",
       "      <td>Diary of a Wimpy Kid: Hard Luck, Book 8</td>\n",
       "      <td>Jeff Kinney</td>\n",
       "      <td>4.8</td>\n",
       "      <td>6812</td>\n",
       "      <td>0</td>\n",
       "      <td>2013</td>\n",
       "      <td>Fiction</td>\n",
       "    </tr>\n",
       "    <tr>\n",
       "      <th>116</th>\n",
       "      <td>Frozen (Little Golden Book)</td>\n",
       "      <td>RH Disney</td>\n",
       "      <td>4.7</td>\n",
       "      <td>3642</td>\n",
       "      <td>0</td>\n",
       "      <td>2014</td>\n",
       "      <td>Fiction</td>\n",
       "    </tr>\n",
       "    <tr>\n",
       "      <th>193</th>\n",
       "      <td>JOURNEY TO THE ICE P</td>\n",
       "      <td>RH Disney</td>\n",
       "      <td>4.6</td>\n",
       "      <td>978</td>\n",
       "      <td>0</td>\n",
       "      <td>2014</td>\n",
       "      <td>Fiction</td>\n",
       "    </tr>\n",
       "    <tr>\n",
       "      <th>219</th>\n",
       "      <td>Little Blue Truck</td>\n",
       "      <td>Alice Schertle</td>\n",
       "      <td>4.9</td>\n",
       "      <td>1884</td>\n",
       "      <td>0</td>\n",
       "      <td>2014</td>\n",
       "      <td>Fiction</td>\n",
       "    </tr>\n",
       "  </tbody>\n",
       "</table>\n",
       "</div>"
      ],
      "text/plain": [
       "                                           Name          Author  User Rating  \\\n",
       "42   Cabin Fever (Diary of a Wimpy Kid, Book 6)     Jeff Kinney          4.8   \n",
       "71      Diary of a Wimpy Kid: Hard Luck, Book 8     Jeff Kinney          4.8   \n",
       "116                 Frozen (Little Golden Book)       RH Disney          4.7   \n",
       "193                        JOURNEY TO THE ICE P       RH Disney          4.6   \n",
       "219                           Little Blue Truck  Alice Schertle          4.9   \n",
       "\n",
       "     Reviews  Price  Year    Genre  \n",
       "42      4505      0  2011  Fiction  \n",
       "71      6812      0  2013  Fiction  \n",
       "116     3642      0  2014  Fiction  \n",
       "193      978      0  2014  Fiction  \n",
       "219     1884      0  2014  Fiction  "
      ]
     },
     "execution_count": 354,
     "metadata": {},
     "output_type": "execute_result"
    }
   ],
   "source": [
    "# Select numeric columns\n",
    "numeric_cols = dataset.select_dtypes(include=[np.number]).columns\n",
    "\n",
    "# Find rows where any numeric column has value zero\n",
    "zero_rows = dataset[(dataset[numeric_cols] == 0).any(axis=1)]\n",
    "\n",
    "# Print the rows\n",
    "zero_rows.head()"
   ]
  },
  {
   "cell_type": "code",
   "execution_count": 355,
   "id": "a682a310",
   "metadata": {},
   "outputs": [
    {
     "data": {
      "application/vnd.microsoft.datawrangler.viewer.v0+json": {
       "columns": [
        {
         "name": "index",
         "rawType": "int64",
         "type": "integer"
        },
        {
         "name": "Name",
         "rawType": "object",
         "type": "string"
        },
        {
         "name": "Author",
         "rawType": "object",
         "type": "string"
        },
        {
         "name": "User Rating",
         "rawType": "float64",
         "type": "float"
        },
        {
         "name": "Reviews",
         "rawType": "int64",
         "type": "integer"
        },
        {
         "name": "Price",
         "rawType": "int64",
         "type": "integer"
        },
        {
         "name": "Year",
         "rawType": "int64",
         "type": "integer"
        },
        {
         "name": "Genre",
         "rawType": "object",
         "type": "string"
        }
       ],
       "ref": "1fc5be83-6d0d-4c73-997a-3b90663547aa",
       "rows": [
        [
         "0",
         "10-Day Green Smoothie Cleanse",
         "JJ Smith",
         "4.7",
         "17350",
         "8",
         "2016",
         "Non Fiction"
        ],
        [
         "1",
         "11/22/63: A Novel",
         "Stephen King",
         "4.6",
         "2052",
         "22",
         "2011",
         "Fiction"
        ],
        [
         "2",
         "12 Rules for Life: An Antidote to Chaos",
         "Jordan B. Peterson",
         "4.7",
         "18979",
         "15",
         "2018",
         "Non Fiction"
        ],
        [
         "3",
         "1984 (Signet Classics)",
         "George Orwell",
         "4.7",
         "21424",
         "6",
         "2017",
         "Fiction"
        ],
        [
         "4",
         "5,000 Awesome Facts (About Everything!) (National Geographic Kids)",
         "National Geographic Kids",
         "4.8",
         "7665",
         "12",
         "2019",
         "Non Fiction"
        ]
       ],
       "shape": {
        "columns": 7,
        "rows": 5
       }
      },
      "text/html": [
       "<div>\n",
       "<style scoped>\n",
       "    .dataframe tbody tr th:only-of-type {\n",
       "        vertical-align: middle;\n",
       "    }\n",
       "\n",
       "    .dataframe tbody tr th {\n",
       "        vertical-align: top;\n",
       "    }\n",
       "\n",
       "    .dataframe thead th {\n",
       "        text-align: right;\n",
       "    }\n",
       "</style>\n",
       "<table border=\"1\" class=\"dataframe\">\n",
       "  <thead>\n",
       "    <tr style=\"text-align: right;\">\n",
       "      <th></th>\n",
       "      <th>Name</th>\n",
       "      <th>Author</th>\n",
       "      <th>User Rating</th>\n",
       "      <th>Reviews</th>\n",
       "      <th>Price</th>\n",
       "      <th>Year</th>\n",
       "      <th>Genre</th>\n",
       "    </tr>\n",
       "  </thead>\n",
       "  <tbody>\n",
       "    <tr>\n",
       "      <th>0</th>\n",
       "      <td>10-Day Green Smoothie Cleanse</td>\n",
       "      <td>JJ Smith</td>\n",
       "      <td>4.7</td>\n",
       "      <td>17350</td>\n",
       "      <td>8</td>\n",
       "      <td>2016</td>\n",
       "      <td>Non Fiction</td>\n",
       "    </tr>\n",
       "    <tr>\n",
       "      <th>1</th>\n",
       "      <td>11/22/63: A Novel</td>\n",
       "      <td>Stephen King</td>\n",
       "      <td>4.6</td>\n",
       "      <td>2052</td>\n",
       "      <td>22</td>\n",
       "      <td>2011</td>\n",
       "      <td>Fiction</td>\n",
       "    </tr>\n",
       "    <tr>\n",
       "      <th>2</th>\n",
       "      <td>12 Rules for Life: An Antidote to Chaos</td>\n",
       "      <td>Jordan B. Peterson</td>\n",
       "      <td>4.7</td>\n",
       "      <td>18979</td>\n",
       "      <td>15</td>\n",
       "      <td>2018</td>\n",
       "      <td>Non Fiction</td>\n",
       "    </tr>\n",
       "    <tr>\n",
       "      <th>3</th>\n",
       "      <td>1984 (Signet Classics)</td>\n",
       "      <td>George Orwell</td>\n",
       "      <td>4.7</td>\n",
       "      <td>21424</td>\n",
       "      <td>6</td>\n",
       "      <td>2017</td>\n",
       "      <td>Fiction</td>\n",
       "    </tr>\n",
       "    <tr>\n",
       "      <th>4</th>\n",
       "      <td>5,000 Awesome Facts (About Everything!) (Natio...</td>\n",
       "      <td>National Geographic Kids</td>\n",
       "      <td>4.8</td>\n",
       "      <td>7665</td>\n",
       "      <td>12</td>\n",
       "      <td>2019</td>\n",
       "      <td>Non Fiction</td>\n",
       "    </tr>\n",
       "  </tbody>\n",
       "</table>\n",
       "</div>"
      ],
      "text/plain": [
       "                                                Name  \\\n",
       "0                      10-Day Green Smoothie Cleanse   \n",
       "1                                  11/22/63: A Novel   \n",
       "2            12 Rules for Life: An Antidote to Chaos   \n",
       "3                             1984 (Signet Classics)   \n",
       "4  5,000 Awesome Facts (About Everything!) (Natio...   \n",
       "\n",
       "                     Author  User Rating  Reviews  Price  Year        Genre  \n",
       "0                  JJ Smith          4.7    17350      8  2016  Non Fiction  \n",
       "1              Stephen King          4.6     2052     22  2011      Fiction  \n",
       "2        Jordan B. Peterson          4.7    18979     15  2018  Non Fiction  \n",
       "3             George Orwell          4.7    21424      6  2017      Fiction  \n",
       "4  National Geographic Kids          4.8     7665     12  2019  Non Fiction  "
      ]
     },
     "execution_count": 355,
     "metadata": {},
     "output_type": "execute_result"
    }
   ],
   "source": [
    "# Remove rows from dataset where any numeric column has value zero\n",
    "dataset = dataset[(dataset[numeric_cols] != 0).all(axis=1)]\n",
    "dataset.reset_index(drop=True, inplace=True)\n",
    "dataset.head()"
   ]
  },
  {
   "cell_type": "code",
   "execution_count": 356,
   "id": "59b2391a",
   "metadata": {},
   "outputs": [],
   "source": [
    "# Group by Name and Author, keep average rating and price, max reviews, etc., and include latest Year\n",
    "dataset = dataset.groupby(['Name', 'Author']).agg({\n",
    "    'User Rating': 'mean',\n",
    "    'Reviews': 'max',\n",
    "    'Price': 'mean',\n",
    "    'Year': 'max',\n",
    "    'Genre': 'first',\n",
    "}).reset_index()"
   ]
  },
  {
   "cell_type": "code",
   "execution_count": 357,
   "id": "efeb4917",
   "metadata": {},
   "outputs": [
    {
     "data": {
      "application/vnd.microsoft.datawrangler.viewer.v0+json": {
       "columns": [
        {
         "name": "index",
         "rawType": "int64",
         "type": "integer"
        },
        {
         "name": "Name",
         "rawType": "object",
         "type": "string"
        },
        {
         "name": "Author",
         "rawType": "object",
         "type": "string"
        },
        {
         "name": "User Rating",
         "rawType": "float64",
         "type": "float"
        },
        {
         "name": "Reviews",
         "rawType": "int64",
         "type": "integer"
        },
        {
         "name": "Price",
         "rawType": "float64",
         "type": "float"
        },
        {
         "name": "Year",
         "rawType": "int64",
         "type": "integer"
        },
        {
         "name": "Genre",
         "rawType": "object",
         "type": "string"
        }
       ],
       "ref": "544347bb-9fc0-4a16-8ccb-1c8400b56de8",
       "rows": [
        [
         "0",
         "10-Day Green Smoothie Cleanse",
         "JJ Smith",
         "4.7",
         "17350",
         "8.0",
         "2016",
         "Non Fiction"
        ],
        [
         "1",
         "11/22/63: A Novel",
         "Stephen King",
         "4.6",
         "2052",
         "22.0",
         "2011",
         "Fiction"
        ],
        [
         "2",
         "12 Rules for Life: An Antidote to Chaos",
         "Jordan B. Peterson",
         "4.7",
         "18979",
         "15.0",
         "2018",
         "Non Fiction"
        ],
        [
         "3",
         "1984 (Signet Classics)",
         "George Orwell",
         "4.7",
         "21424",
         "6.0",
         "2017",
         "Fiction"
        ],
        [
         "4",
         "5,000 Awesome Facts (About Everything!) (National Geographic Kids)",
         "National Geographic Kids",
         "4.8",
         "7665",
         "12.0",
         "2019",
         "Non Fiction"
        ]
       ],
       "shape": {
        "columns": 7,
        "rows": 5
       }
      },
      "text/html": [
       "<div>\n",
       "<style scoped>\n",
       "    .dataframe tbody tr th:only-of-type {\n",
       "        vertical-align: middle;\n",
       "    }\n",
       "\n",
       "    .dataframe tbody tr th {\n",
       "        vertical-align: top;\n",
       "    }\n",
       "\n",
       "    .dataframe thead th {\n",
       "        text-align: right;\n",
       "    }\n",
       "</style>\n",
       "<table border=\"1\" class=\"dataframe\">\n",
       "  <thead>\n",
       "    <tr style=\"text-align: right;\">\n",
       "      <th></th>\n",
       "      <th>Name</th>\n",
       "      <th>Author</th>\n",
       "      <th>User Rating</th>\n",
       "      <th>Reviews</th>\n",
       "      <th>Price</th>\n",
       "      <th>Year</th>\n",
       "      <th>Genre</th>\n",
       "    </tr>\n",
       "  </thead>\n",
       "  <tbody>\n",
       "    <tr>\n",
       "      <th>0</th>\n",
       "      <td>10-Day Green Smoothie Cleanse</td>\n",
       "      <td>JJ Smith</td>\n",
       "      <td>4.7</td>\n",
       "      <td>17350</td>\n",
       "      <td>8.0</td>\n",
       "      <td>2016</td>\n",
       "      <td>Non Fiction</td>\n",
       "    </tr>\n",
       "    <tr>\n",
       "      <th>1</th>\n",
       "      <td>11/22/63: A Novel</td>\n",
       "      <td>Stephen King</td>\n",
       "      <td>4.6</td>\n",
       "      <td>2052</td>\n",
       "      <td>22.0</td>\n",
       "      <td>2011</td>\n",
       "      <td>Fiction</td>\n",
       "    </tr>\n",
       "    <tr>\n",
       "      <th>2</th>\n",
       "      <td>12 Rules for Life: An Antidote to Chaos</td>\n",
       "      <td>Jordan B. Peterson</td>\n",
       "      <td>4.7</td>\n",
       "      <td>18979</td>\n",
       "      <td>15.0</td>\n",
       "      <td>2018</td>\n",
       "      <td>Non Fiction</td>\n",
       "    </tr>\n",
       "    <tr>\n",
       "      <th>3</th>\n",
       "      <td>1984 (Signet Classics)</td>\n",
       "      <td>George Orwell</td>\n",
       "      <td>4.7</td>\n",
       "      <td>21424</td>\n",
       "      <td>6.0</td>\n",
       "      <td>2017</td>\n",
       "      <td>Fiction</td>\n",
       "    </tr>\n",
       "    <tr>\n",
       "      <th>4</th>\n",
       "      <td>5,000 Awesome Facts (About Everything!) (Natio...</td>\n",
       "      <td>National Geographic Kids</td>\n",
       "      <td>4.8</td>\n",
       "      <td>7665</td>\n",
       "      <td>12.0</td>\n",
       "      <td>2019</td>\n",
       "      <td>Non Fiction</td>\n",
       "    </tr>\n",
       "  </tbody>\n",
       "</table>\n",
       "</div>"
      ],
      "text/plain": [
       "                                                Name  \\\n",
       "0                      10-Day Green Smoothie Cleanse   \n",
       "1                                  11/22/63: A Novel   \n",
       "2            12 Rules for Life: An Antidote to Chaos   \n",
       "3                             1984 (Signet Classics)   \n",
       "4  5,000 Awesome Facts (About Everything!) (Natio...   \n",
       "\n",
       "                     Author  User Rating  Reviews  Price  Year        Genre  \n",
       "0                  JJ Smith          4.7    17350    8.0  2016  Non Fiction  \n",
       "1              Stephen King          4.6     2052   22.0  2011      Fiction  \n",
       "2        Jordan B. Peterson          4.7    18979   15.0  2018  Non Fiction  \n",
       "3             George Orwell          4.7    21424    6.0  2017      Fiction  \n",
       "4  National Geographic Kids          4.8     7665   12.0  2019  Non Fiction  "
      ]
     },
     "execution_count": 357,
     "metadata": {},
     "output_type": "execute_result"
    }
   ],
   "source": [
    "dataset.head()"
   ]
  },
  {
   "cell_type": "code",
   "execution_count": 358,
   "id": "8b6248b7",
   "metadata": {},
   "outputs": [
    {
     "data": {
      "image/png": "[encoded data removed]",
      "text/plain": [
       "<Figure size 1000x700 with 1 Axes>"
      ]
     },
     "metadata": {},
     "output_type": "display_data"
    }
   ],
   "source": [
    "import matplotlib.pyplot as plt\n",
    "import pandas as pd\n",
    "\n",
    "numeric_data = dataset.select_dtypes(include=np.number)\n",
    "plt.figure(figsize=(10, 7))\n",
    "plt.boxplot([numeric_data[col] for col in numeric_data.columns], tick_labels=numeric_data.columns)\n",
    "plt.show()"
   ]
  },
  {
   "cell_type": "code",
   "execution_count": 359,
   "id": "8d7a3c83",
   "metadata": {},
   "outputs": [
    {
     "name": "stdout",
     "output_type": "stream",
     "text": [
      "Interquartile Range (IQR) for Reviews: 8162.5\n"
     ]
    }
   ],
   "source": [
    "Q1 = dataset['Reviews'].quantile(0.25)\n",
    "Q3 = dataset['Reviews'].quantile(0.75)\n",
    "IQR = Q3 - Q1\n",
    "print(\"Interquartile Range (IQR) for Reviews:\", IQR)"
   ]
  },
  {
   "cell_type": "code",
   "execution_count": 360,
   "id": "fef78834",
   "metadata": {},
   "outputs": [
    {
     "data": {
      "application/vnd.microsoft.datawrangler.viewer.v0+json": {
       "columns": [
        {
         "name": "index",
         "rawType": "int64",
         "type": "integer"
        },
        {
         "name": "Name",
         "rawType": "object",
         "type": "string"
        },
        {
         "name": "Author",
         "rawType": "object",
         "type": "string"
        },
        {
         "name": "User Rating",
         "rawType": "float64",
         "type": "float"
        },
        {
         "name": "Reviews",
         "rawType": "int64",
         "type": "integer"
        },
        {
         "name": "Price",
         "rawType": "float64",
         "type": "float"
        },
        {
         "name": "Year",
         "rawType": "int64",
         "type": "integer"
        },
        {
         "name": "Genre",
         "rawType": "object",
         "type": "string"
        }
       ],
       "ref": "66a5107d-b914-4702-9255-5b17b848fd98",
       "rows": [
        [
         "0",
         "10-Day Green Smoothie Cleanse",
         "JJ Smith",
         "4.7",
         "17350",
         "8.0",
         "2016",
         "Non Fiction"
        ],
        [
         "1",
         "11/22/63: A Novel",
         "Stephen King",
         "4.6",
         "2052",
         "22.0",
         "2011",
         "Fiction"
        ],
        [
         "2",
         "12 Rules for Life: An Antidote to Chaos",
         "Jordan B. Peterson",
         "4.7",
         "18979",
         "15.0",
         "2018",
         "Non Fiction"
        ],
        [
         "3",
         "1984 (Signet Classics)",
         "George Orwell",
         "4.7",
         "21424",
         "6.0",
         "2017",
         "Fiction"
        ],
        [
         "4",
         "5,000 Awesome Facts (About Everything!) (National Geographic Kids)",
         "National Geographic Kids",
         "4.8",
         "7665",
         "12.0",
         "2019",
         "Non Fiction"
        ]
       ],
       "shape": {
        "columns": 7,
        "rows": 5
       }
      },
      "text/html": [
       "<div>\n",
       "<style scoped>\n",
       "    .dataframe tbody tr th:only-of-type {\n",
       "        vertical-align: middle;\n",
       "    }\n",
       "\n",
       "    .dataframe tbody tr th {\n",
       "        vertical-align: top;\n",
       "    }\n",
       "\n",
       "    .dataframe thead th {\n",
       "        text-align: right;\n",
       "    }\n",
       "</style>\n",
       "<table border=\"1\" class=\"dataframe\">\n",
       "  <thead>\n",
       "    <tr style=\"text-align: right;\">\n",
       "      <th></th>\n",
       "      <th>Name</th>\n",
       "      <th>Author</th>\n",
       "      <th>User Rating</th>\n",
       "      <th>Reviews</th>\n",
       "      <th>Price</th>\n",
       "      <th>Year</th>\n",
       "      <th>Genre</th>\n",
       "    </tr>\n",
       "  </thead>\n",
       "  <tbody>\n",
       "    <tr>\n",
       "      <th>0</th>\n",
       "      <td>10-Day Green Smoothie Cleanse</td>\n",
       "      <td>JJ Smith</td>\n",
       "      <td>4.7</td>\n",
       "      <td>17350</td>\n",
       "      <td>8.0</td>\n",
       "      <td>2016</td>\n",
       "      <td>Non Fiction</td>\n",
       "    </tr>\n",
       "    <tr>\n",
       "      <th>1</th>\n",
       "      <td>11/22/63: A Novel</td>\n",
       "      <td>Stephen King</td>\n",
       "      <td>4.6</td>\n",
       "      <td>2052</td>\n",
       "      <td>22.0</td>\n",
       "      <td>2011</td>\n",
       "      <td>Fiction</td>\n",
       "    </tr>\n",
       "    <tr>\n",
       "      <th>2</th>\n",
       "      <td>12 Rules for Life: An Antidote to Chaos</td>\n",
       "      <td>Jordan B. Peterson</td>\n",
       "      <td>4.7</td>\n",
       "      <td>18979</td>\n",
       "      <td>15.0</td>\n",
       "      <td>2018</td>\n",
       "      <td>Non Fiction</td>\n",
       "    </tr>\n",
       "    <tr>\n",
       "      <th>3</th>\n",
       "      <td>1984 (Signet Classics)</td>\n",
       "      <td>George Orwell</td>\n",
       "      <td>4.7</td>\n",
       "      <td>21424</td>\n",
       "      <td>6.0</td>\n",
       "      <td>2017</td>\n",
       "      <td>Fiction</td>\n",
       "    </tr>\n",
       "    <tr>\n",
       "      <th>4</th>\n",
       "      <td>5,000 Awesome Facts (About Everything!) (Natio...</td>\n",
       "      <td>National Geographic Kids</td>\n",
       "      <td>4.8</td>\n",
       "      <td>7665</td>\n",
       "      <td>12.0</td>\n",
       "      <td>2019</td>\n",
       "      <td>Non Fiction</td>\n",
       "    </tr>\n",
       "  </tbody>\n",
       "</table>\n",
       "</div>"
      ],
      "text/plain": [
       "                                                Name  \\\n",
       "0                      10-Day Green Smoothie Cleanse   \n",
       "1                                  11/22/63: A Novel   \n",
       "2            12 Rules for Life: An Antidote to Chaos   \n",
       "3                             1984 (Signet Classics)   \n",
       "4  5,000 Awesome Facts (About Everything!) (Natio...   \n",
       "\n",
       "                     Author  User Rating  Reviews  Price  Year        Genre  \n",
       "0                  JJ Smith          4.7    17350    8.0  2016  Non Fiction  \n",
       "1              Stephen King          4.6     2052   22.0  2011      Fiction  \n",
       "2        Jordan B. Peterson          4.7    18979   15.0  2018  Non Fiction  \n",
       "3             George Orwell          4.7    21424    6.0  2017      Fiction  \n",
       "4  National Geographic Kids          4.8     7665   12.0  2019  Non Fiction  "
      ]
     },
     "execution_count": 360,
     "metadata": {},
     "output_type": "execute_result"
    }
   ],
   "source": [
    "# Define lower and upper bounds for outliers\n",
    "lower_bound = Q1 - 1.5 * IQR\n",
    "upper_bound = Q3 + 1.5 * IQR\n",
    "\n",
    "# Filter dataset to remove outliers in 'Reviews'\n",
    "filtered_dataset = dataset[(dataset['Reviews'] >= lower_bound) & (dataset['Reviews'] <= upper_bound)]\n",
    "filtered_dataset.head()"
   ]
  },
  {
   "cell_type": "code",
   "execution_count": null,
   "id": "c7f543cd",
   "metadata": {},
   "outputs": [],
   "source": []
  },
  {
   "cell_type": "code",
   "execution_count": 361,
   "id": "ae630069",
   "metadata": {},
   "outputs": [
    {
     "data": {
      "image/png": "[encoded data removed]",
      "text/plain": [
       "<Figure size 1000x700 with 1 Axes>"
      ]
     },
     "metadata": {},
     "output_type": "display_data"
    }
   ],
   "source": [
    "import matplotlib.pyplot as plt\n",
    "import pandas as pd\n",
    "\n",
    "numeric_data = filtered_dataset.select_dtypes(include=np.number)\n",
    "plt.figure(figsize=(10, 7))\n",
    "plt.boxplot([numeric_data[col] for col in numeric_data.columns], tick_labels=numeric_data.columns)\n",
    "plt.show()"
   ]
  },
  {
   "cell_type": "code",
   "execution_count": null,
   "id": "1970f603",
   "metadata": {},
   "outputs": [],
   "source": []
  },
  {
   "cell_type": "code",
   "execution_count": 362,
   "id": "94f8b603",
   "metadata": {},
   "outputs": [
    {
     "name": "stdout",
     "output_type": "stream",
     "text": [
      "Dropped 'Name' column from both dataset and filtered_dataset.\n"
     ]
    }
   ],
   "source": [
    "filtered_dataset = filtered_dataset.drop(columns=['Name'])\n",
    "print(\"Dropped 'Name' column from both dataset and filtered_dataset.\")"
   ]
  },
  {
   "cell_type": "code",
   "execution_count": 363,
   "id": "9fdf4759",
   "metadata": {},
   "outputs": [
    {
     "name": "stdout",
     "output_type": "stream",
     "text": [
      "missing data:\n",
      " Author         0\n",
      "User Rating    0\n",
      "Reviews        0\n",
      "Price          0\n",
      "Year           0\n",
      "Genre          0\n",
      "dtype: int64\n"
     ]
    },
    {
     "data": {
      "application/vnd.microsoft.datawrangler.viewer.v0+json": {
       "columns": [
        {
         "name": "index",
         "rawType": "int64",
         "type": "integer"
        },
        {
         "name": "Author",
         "rawType": "object",
         "type": "string"
        },
        {
         "name": "User Rating",
         "rawType": "float64",
         "type": "float"
        },
        {
         "name": "Reviews",
         "rawType": "int64",
         "type": "integer"
        },
        {
         "name": "Price",
         "rawType": "float64",
         "type": "float"
        },
        {
         "name": "Year",
         "rawType": "int64",
         "type": "integer"
        },
        {
         "name": "Genre",
         "rawType": "object",
         "type": "string"
        }
       ],
       "ref": "0612467e-8ac7-4ca2-9a96-058cbdab28f5",
       "rows": [
        [
         "0",
         "JJ Smith",
         "4.7",
         "17350",
         "8.0",
         "2016",
         "Non Fiction"
        ],
        [
         "1",
         "Stephen King",
         "4.6",
         "2052",
         "22.0",
         "2011",
         "Fiction"
        ],
        [
         "2",
         "Jordan B. Peterson",
         "4.7",
         "18979",
         "15.0",
         "2018",
         "Non Fiction"
        ],
        [
         "3",
         "George Orwell",
         "4.7",
         "21424",
         "6.0",
         "2017",
         "Fiction"
        ],
        [
         "4",
         "National Geographic Kids",
         "4.8",
         "7665",
         "12.0",
         "2019",
         "Non Fiction"
        ]
       ],
       "shape": {
        "columns": 6,
        "rows": 5
       }
      },
      "text/html": [
       "<div>\n",
       "<style scoped>\n",
       "    .dataframe tbody tr th:only-of-type {\n",
       "        vertical-align: middle;\n",
       "    }\n",
       "\n",
       "    .dataframe tbody tr th {\n",
       "        vertical-align: top;\n",
       "    }\n",
       "\n",
       "    .dataframe thead th {\n",
       "        text-align: right;\n",
       "    }\n",
       "</style>\n",
       "<table border=\"1\" class=\"dataframe\">\n",
       "  <thead>\n",
       "    <tr style=\"text-align: right;\">\n",
       "      <th></th>\n",
       "      <th>Author</th>\n",
       "      <th>User Rating</th>\n",
       "      <th>Reviews</th>\n",
       "      <th>Price</th>\n",
       "      <th>Year</th>\n",
       "      <th>Genre</th>\n",
       "    </tr>\n",
       "  </thead>\n",
       "  <tbody>\n",
       "    <tr>\n",
       "      <th>0</th>\n",
       "      <td>JJ Smith</td>\n",
       "      <td>4.7</td>\n",
       "      <td>17350</td>\n",
       "      <td>8.0</td>\n",
       "      <td>2016</td>\n",
       "      <td>Non Fiction</td>\n",
       "    </tr>\n",
       "    <tr>\n",
       "      <th>1</th>\n",
       "      <td>Stephen King</td>\n",
       "      <td>4.6</td>\n",
       "      <td>2052</td>\n",
       "      <td>22.0</td>\n",
       "      <td>2011</td>\n",
       "      <td>Fiction</td>\n",
       "    </tr>\n",
       "    <tr>\n",
       "      <th>2</th>\n",
       "      <td>Jordan B. Peterson</td>\n",
       "      <td>4.7</td>\n",
       "      <td>18979</td>\n",
       "      <td>15.0</td>\n",
       "      <td>2018</td>\n",
       "      <td>Non Fiction</td>\n",
       "    </tr>\n",
       "    <tr>\n",
       "      <th>3</th>\n",
       "      <td>George Orwell</td>\n",
       "      <td>4.7</td>\n",
       "      <td>21424</td>\n",
       "      <td>6.0</td>\n",
       "      <td>2017</td>\n",
       "      <td>Fiction</td>\n",
       "    </tr>\n",
       "    <tr>\n",
       "      <th>4</th>\n",
       "      <td>National Geographic Kids</td>\n",
       "      <td>4.8</td>\n",
       "      <td>7665</td>\n",
       "      <td>12.0</td>\n",
       "      <td>2019</td>\n",
       "      <td>Non Fiction</td>\n",
       "    </tr>\n",
       "  </tbody>\n",
       "</table>\n",
       "</div>"
      ],
      "text/plain": [
       "                     Author  User Rating  Reviews  Price  Year        Genre\n",
       "0                  JJ Smith          4.7    17350    8.0  2016  Non Fiction\n",
       "1              Stephen King          4.6     2052   22.0  2011      Fiction\n",
       "2        Jordan B. Peterson          4.7    18979   15.0  2018  Non Fiction\n",
       "3             George Orwell          4.7    21424    6.0  2017      Fiction\n",
       "4  National Geographic Kids          4.8     7665   12.0  2019  Non Fiction"
      ]
     },
     "execution_count": 363,
     "metadata": {},
     "output_type": "execute_result"
    }
   ],
   "source": [
    "missing_data=filtered_dataset.isnull().sum()\n",
    "print(\"missing data:\\n\",missing_data)\n",
    "filtered_dataset.head()"
   ]
  },
  {
   "cell_type": "code",
   "execution_count": 364,
   "id": "e0eef9ac",
   "metadata": {},
   "outputs": [
    {
     "name": "stdout",
     "output_type": "stream",
     "text": [
      "Filtered dataset after encoding:\n",
      "     Author  User Rating  Reviews  Price  Year        Genre\n",
      "0  4.625004          4.7    17350    8.0  2016  Non Fiction\n",
      "1  4.598872          4.6     2052   22.0  2011      Fiction\n",
      "2  4.625004          4.7    18979   15.0  2018  Non Fiction\n",
      "3  4.625004          4.7    21424    6.0  2017      Fiction\n",
      "4  4.638015          4.8     7665   12.0  2019  Non Fiction\n"
     ]
    }
   ],
   "source": [
    "import category_encoders as ce\n",
    "\n",
    "# Select columns to encode and the target\n",
    "cols_to_encode = ['Author']\n",
    "target = 'User Rating'\n",
    "\n",
    "# Make sure we have a copy, not a view, of the dataset\n",
    "filtered_dataset = filtered_dataset.copy()\n",
    "\n",
    "# Initialize and fit the target encoder\n",
    "encoder = ce.TargetEncoder(cols=cols_to_encode)\n",
    "\n",
    "# Fit and transform the filtered_dataset\n",
    "filtered_dataset[cols_to_encode] = encoder.fit_transform(filtered_dataset[cols_to_encode], filtered_dataset[target])\n",
    "\n",
    "# Ensure the encoded columns are float64\n",
    "for col in cols_to_encode:\n",
    "    filtered_dataset[col] = filtered_dataset[col].astype('float64')\n",
    "\n",
    "print(\"Filtered dataset after encoding:\")\n",
    "print(filtered_dataset.head())"
   ]
  },
  {
   "cell_type": "code",
   "execution_count": 365,
   "id": "6bc91db2",
   "metadata": {},
   "outputs": [
    {
     "data": {
      "image/png": "[encoded data removed]",
      "text/plain": [
       "<Figure size 1000x600 with 1 Axes>"
      ]
     },
     "metadata": {},
     "output_type": "display_data"
    }
   ],
   "source": [
    "import seaborn as sns\n",
    "\n",
    "plt.figure(figsize=(10, 6))\n",
    "sns.scatterplot(x=filtered_dataset['Author'], y=filtered_dataset['User Rating'])\n",
    "plt.xlabel('Author (Encoded)')\n",
    "plt.ylabel('User Rating')\n",
    "plt.title('Scatterplot between Author and User Rating')\n",
    "plt.grid(True)\n",
    "plt.show()"
   ]
  },
  {
   "cell_type": "code",
   "execution_count": 366,
   "id": "b47a1db5",
   "metadata": {},
   "outputs": [
    {
     "name": "stdout",
     "output_type": "stream",
     "text": [
      "Author         float64\n",
      "User Rating    float64\n",
      "Reviews          int64\n",
      "Price          float64\n",
      "Year             int64\n",
      "Genre           object\n",
      "dtype: object\n",
      "Name            object\n",
      "Author          object\n",
      "User Rating    float64\n",
      "Reviews          int64\n",
      "Price          float64\n",
      "Year             int64\n",
      "Genre           object\n",
      "dtype: object\n"
     ]
    }
   ],
   "source": [
    "print(filtered_dataset.dtypes)\n",
    "print(dataset.dtypes)"
   ]
  },
  {
   "cell_type": "code",
   "execution_count": 367,
   "id": "a8c516a1",
   "metadata": {},
   "outputs": [
    {
     "name": "stdout",
     "output_type": "stream",
     "text": [
      "Is 'Author' column numeric? True\n"
     ]
    }
   ],
   "source": [
    "is_author_numeric = pd.api.types.is_numeric_dtype(filtered_dataset['Author'])\n",
    "print(f\"Is 'Author' column numeric? {is_author_numeric}\")"
   ]
  },
  {
   "cell_type": "code",
   "execution_count": 368,
   "id": "2eb0dfc1",
   "metadata": {},
   "outputs": [
    {
     "data": {
      "image/png": "[encoded data removed]",
      "text/plain": [
       "<Figure size 800x600 with 2 Axes>"
      ]
     },
     "metadata": {},
     "output_type": "display_data"
    }
   ],
   "source": [
    "import seaborn as sns\n",
    "\n",
    "# Compute the correlation matrix\n",
    "corr = filtered_dataset.corr(numeric_only=True)\n",
    "\n",
    "# Plot the heatmap\n",
    "plt.figure(figsize=(8, 6))\n",
    "sns.heatmap(corr, annot=True, cmap='coolwarm', fmt=\".2f\")\n",
    "plt.title('Correlation Heatmap for Numeric Features')\n",
    "plt.show()"
   ]
  },
  {
   "cell_type": "code",
   "execution_count": 369,
   "id": "2d16ebc5",
   "metadata": {},
   "outputs": [
    {
     "name": "stdout",
     "output_type": "stream",
     "text": [
      "[[4.625003909739867 17350 8.0 2016 'Non Fiction']\n",
      " [4.598872289954464 2052 22.0 2011 'Fiction']\n",
      " [4.625003909739867 18979 15.0 2018 'Non Fiction']\n",
      " ...\n",
      " [4.638014757176166 21625 9.0 2017 'Fiction']\n",
      " [4.6602917009717215 9413 8.0 2019 'Fiction']\n",
      " [4.625003909739867 14331 8.0 2019 'Non Fiction']]\n"
     ]
    }
   ],
   "source": [
    "x=filtered_dataset.iloc[:,[0,2,3,4,5]].values\n",
    "print(x)"
   ]
  },
  {
   "cell_type": "code",
   "execution_count": 370,
   "id": "ed1b41a5",
   "metadata": {},
   "outputs": [
    {
     "name": "stdout",
     "output_type": "stream",
     "text": [
      "[[4.7       ]\n",
      " [4.6       ]\n",
      " [4.7       ]\n",
      " [4.7       ]\n",
      " [4.8       ]\n",
      " [4.4       ]\n",
      " [4.7       ]\n",
      " [4.7       ]\n",
      " [4.7       ]\n",
      " [4.6       ]\n",
      " [4.6       ]\n",
      " [4.6       ]\n",
      " [4.5       ]\n",
      " [4.6       ]\n",
      " [4.5       ]\n",
      " [4.6       ]\n",
      " [4.4       ]\n",
      " [4.5       ]\n",
      " [4.8       ]\n",
      " [3.9       ]\n",
      " [4.6       ]\n",
      " [4.3       ]\n",
      " [4.6       ]\n",
      " [4.7       ]\n",
      " [4.2       ]\n",
      " [4.6       ]\n",
      " [4.6       ]\n",
      " [4.8       ]\n",
      " [4.7       ]\n",
      " [4.8       ]\n",
      " [4.7       ]\n",
      " [4.7       ]\n",
      " [4.6       ]\n",
      " [4.5       ]\n",
      " [4.9       ]\n",
      " [4.6       ]\n",
      " [4.8       ]\n",
      " [4.5       ]\n",
      " [4.7       ]\n",
      " [4.7       ]\n",
      " [4.7       ]\n",
      " [4.3       ]\n",
      " [4.8       ]\n",
      " [4.8       ]\n",
      " [4.6       ]\n",
      " [4.8       ]\n",
      " [4.4       ]\n",
      " [4.6       ]\n",
      " [4.2       ]\n",
      " [4.3       ]\n",
      " [4.8       ]\n",
      " [4.6       ]\n",
      " [4.6       ]\n",
      " [4.5       ]\n",
      " [4.8       ]\n",
      " [4.8       ]\n",
      " [4.6       ]\n",
      " [4.5       ]\n",
      " [4.6       ]\n",
      " [4.7       ]\n",
      " [4.8       ]\n",
      " [4.9       ]\n",
      " [4.9       ]\n",
      " [4.9       ]\n",
      " [4.9       ]\n",
      " [4.9       ]\n",
      " [4.9       ]\n",
      " [4.8       ]\n",
      " [4.6       ]\n",
      " [4.5       ]\n",
      " [4.5       ]\n",
      " [4.3       ]\n",
      " [4.5       ]\n",
      " [4.7       ]\n",
      " [4.7       ]\n",
      " [4.7       ]\n",
      " [4.6       ]\n",
      " [4.7       ]\n",
      " [4.4       ]\n",
      " [4.4       ]\n",
      " [4.5       ]\n",
      " [4.5       ]\n",
      " [4.2       ]\n",
      " [4.7       ]\n",
      " [4.4       ]\n",
      " [4.4       ]\n",
      " [4.6       ]\n",
      " [4.5       ]\n",
      " [4.6       ]\n",
      " [4.8       ]\n",
      " [4.6       ]\n",
      " [4.6       ]\n",
      " [4.6       ]\n",
      " [3.6       ]\n",
      " [4.8       ]\n",
      " [4.6       ]\n",
      " [4.6       ]\n",
      " [4.5       ]\n",
      " [4.8       ]\n",
      " [4.9       ]\n",
      " [4.6       ]\n",
      " [4.8       ]\n",
      " [4.9       ]\n",
      " [4.8       ]\n",
      " [4.7       ]\n",
      " [4.8       ]\n",
      " [4.9       ]\n",
      " [4.9       ]\n",
      " [4.9       ]\n",
      " [4.9       ]\n",
      " [4.8       ]\n",
      " [4.7       ]\n",
      " [4.4       ]\n",
      " [4.8       ]\n",
      " [4.3       ]\n",
      " [4.8       ]\n",
      " [4.9       ]\n",
      " [4.7       ]\n",
      " [4.8       ]\n",
      " [4.6       ]\n",
      " [4.8       ]\n",
      " [4.3       ]\n",
      " [4.4       ]\n",
      " [4.6       ]\n",
      " [4.4       ]\n",
      " [4.8       ]\n",
      " [4.9       ]\n",
      " [4.5       ]\n",
      " [4.6       ]\n",
      " [4.5       ]\n",
      " [4.6       ]\n",
      " [4.7       ]\n",
      " [4.6       ]\n",
      " [4.6       ]\n",
      " [4.8       ]\n",
      " [4.8       ]\n",
      " [4.5       ]\n",
      " [4.9       ]\n",
      " [4.6       ]\n",
      " [4.5       ]\n",
      " [4.5       ]\n",
      " [4.4       ]\n",
      " [4.8       ]\n",
      " [4.5       ]\n",
      " [4.1       ]\n",
      " [4.5       ]\n",
      " [4.2       ]\n",
      " [4.8       ]\n",
      " [4.8       ]\n",
      " [4.5       ]\n",
      " [4.7       ]\n",
      " [4.8       ]\n",
      " [4.7       ]\n",
      " [4.4       ]\n",
      " [4.6       ]\n",
      " [4.8       ]\n",
      " [4.8       ]\n",
      " [4.6       ]\n",
      " [4.7       ]\n",
      " [4.6       ]\n",
      " [4.9       ]\n",
      " [4.9       ]\n",
      " [4.8       ]\n",
      " [4.2       ]\n",
      " [4.6       ]\n",
      " [4.5       ]\n",
      " [4.3       ]\n",
      " [4.6       ]\n",
      " [4.6       ]\n",
      " [4.7       ]\n",
      " [4.8       ]\n",
      " [4.8       ]\n",
      " [4.7       ]\n",
      " [4.3       ]\n",
      " [4.5       ]\n",
      " [4.8       ]\n",
      " [4.6       ]\n",
      " [4.7       ]\n",
      " [4.6       ]\n",
      " [4.9       ]\n",
      " [4.9       ]\n",
      " [4.8       ]\n",
      " [4.6       ]\n",
      " [4.8       ]\n",
      " [4.7       ]\n",
      " [4.7       ]\n",
      " [4.8       ]\n",
      " [4.1       ]\n",
      " [4.7       ]\n",
      " [4.6       ]\n",
      " [4.6       ]\n",
      " [4.9       ]\n",
      " [4.        ]\n",
      " [4.5       ]\n",
      " [4.6       ]\n",
      " [4.5       ]\n",
      " [4.4       ]\n",
      " [4.3       ]\n",
      " [4.3       ]\n",
      " [4.7       ]\n",
      " [4.8       ]\n",
      " [4.64285714]\n",
      " [4.6       ]\n",
      " [4.7       ]\n",
      " [4.7       ]\n",
      " [4.2       ]\n",
      " [4.8       ]\n",
      " [4.8       ]\n",
      " [4.6       ]\n",
      " [4.7       ]\n",
      " [4.8       ]\n",
      " [4.8       ]\n",
      " [3.3       ]\n",
      " [4.7       ]\n",
      " [4.3       ]\n",
      " [4.3       ]\n",
      " [4.4       ]\n",
      " [4.8       ]\n",
      " [4.1       ]\n",
      " [4.        ]\n",
      " [4.6       ]\n",
      " [4.6       ]\n",
      " [4.7       ]\n",
      " [4.7       ]\n",
      " [4.7       ]\n",
      " [4.7       ]\n",
      " [4.4       ]\n",
      " [4.8       ]\n",
      " [4.4       ]\n",
      " [4.5       ]\n",
      " [4.7       ]\n",
      " [4.6       ]\n",
      " [4.8       ]\n",
      " [4.8       ]\n",
      " [4.8       ]\n",
      " [4.8       ]\n",
      " [4.7       ]\n",
      " [4.3       ]\n",
      " [4.7       ]\n",
      " [4.8       ]\n",
      " [4.9       ]\n",
      " [4.4       ]\n",
      " [4.5       ]\n",
      " [4.4       ]\n",
      " [4.8       ]\n",
      " [4.2       ]\n",
      " [4.8       ]\n",
      " [4.9       ]\n",
      " [4.8       ]\n",
      " [4.5       ]\n",
      " [4.8       ]\n",
      " [4.6       ]\n",
      " [4.4       ]\n",
      " [4.3       ]\n",
      " [4.3       ]\n",
      " [4.8       ]\n",
      " [4.8       ]\n",
      " [4.8       ]\n",
      " [4.5       ]\n",
      " [4.4       ]\n",
      " [4.8       ]\n",
      " [4.6       ]\n",
      " [4.3       ]\n",
      " [4.3       ]\n",
      " [4.6       ]\n",
      " [4.6       ]\n",
      " [4.8       ]\n",
      " [4.6       ]\n",
      " [4.8       ]\n",
      " [4.7       ]\n",
      " [4.7       ]\n",
      " [4.7       ]\n",
      " [4.4       ]\n",
      " [4.4       ]\n",
      " [4.7       ]\n",
      " [4.7       ]\n",
      " [4.8       ]\n",
      " [4.7       ]\n",
      " [4.9       ]\n",
      " [4.6       ]\n",
      " [4.9       ]\n",
      " [4.7       ]\n",
      " [4.7       ]\n",
      " [4.6       ]\n",
      " [4.5       ]\n",
      " [4.5       ]\n",
      " [4.3       ]\n",
      " [4.6       ]\n",
      " [4.3       ]\n",
      " [4.6       ]\n",
      " [4.8       ]\n",
      " [4.5       ]\n",
      " [4.7       ]\n",
      " [4.5       ]\n",
      " [4.3       ]\n",
      " [4.9       ]\n",
      " [4.8       ]\n",
      " [4.7       ]\n",
      " [4.8       ]\n",
      " [4.5       ]\n",
      " [4.6       ]\n",
      " [4.7       ]\n",
      " [4.7       ]\n",
      " [4.8       ]\n",
      " [4.4       ]\n",
      " [4.4       ]\n",
      " [4.8       ]\n",
      " [4.8       ]\n",
      " [4.6       ]\n",
      " [4.4       ]\n",
      " [4.5       ]\n",
      " [4.2       ]\n",
      " [4.8       ]\n",
      " [4.9       ]\n",
      " [4.7       ]]\n"
     ]
    }
   ],
   "source": [
    "y=filtered_dataset.iloc[:,[1]].values\n",
    "print(y)"
   ]
  },
  {
   "cell_type": "code",
   "execution_count": 371,
   "id": "4a8e9795",
   "metadata": {},
   "outputs": [
    {
     "name": "stdout",
     "output_type": "stream",
     "text": [
      "[[0.0 1.0 4.625003909739867 17350 8.0 2016]\n",
      " [1.0 0.0 4.598872289954464 2052 22.0 2011]\n",
      " [0.0 1.0 4.625003909739867 18979 15.0 2018]\n",
      " ...\n",
      " [1.0 0.0 4.638014757176166 21625 9.0 2017]\n",
      " [1.0 0.0 4.6602917009717215 9413 8.0 2019]\n",
      " [0.0 1.0 4.625003909739867 14331 8.0 2019]]\n"
     ]
    }
   ],
   "source": [
    "from sklearn.compose import ColumnTransformer\n",
    "from sklearn.preprocessing import OneHotEncoder\n",
    "ct =ColumnTransformer(transformers=[('encoder', OneHotEncoder(), [-1])], remainder='passthrough')\n",
    "x=np.array(ct.fit_transform(x))\n",
    "print(x)"
   ]
  },
  {
   "cell_type": "markdown",
   "id": "4ab06e2c",
   "metadata": {},
   "source": [
    "avoid dummy variable"
   ]
  },
  {
   "cell_type": "code",
   "execution_count": 372,
   "id": "393f5af0",
   "metadata": {},
   "outputs": [
    {
     "name": "stdout",
     "output_type": "stream",
     "text": [
      "[[1.0 4.625003909739867 17350 8.0 2016]\n",
      " [0.0 4.598872289954464 2052 22.0 2011]\n",
      " [1.0 4.625003909739867 18979 15.0 2018]\n",
      " ...\n",
      " [0.0 4.638014757176166 21625 9.0 2017]\n",
      " [0.0 4.6602917009717215 9413 8.0 2019]\n",
      " [1.0 4.625003909739867 14331 8.0 2019]]\n"
     ]
    }
   ],
   "source": [
    "x= x[: , 1:]\n",
    "print(x)"
   ]
  },
  {
   "cell_type": "code",
   "execution_count": 373,
   "id": "7ba9537f",
   "metadata": {
    "vscode": {
     "languageId": "markdown"
    }
   },
   "outputs": [
    {
     "name": "stdout",
     "output_type": "stream",
     "text": [
      "[[1.0 4.625003909739867 1.70775556992414 -0.5290973817760144\n",
      "  0.5898726211623734]\n",
      " [0.0 4.598872289954464 -0.9433410949933759 0.8457445041893393\n",
      "  -0.8731972659726498]\n",
      " [1.0 4.625003909739867 1.9900562933618857 0.1583235612066625\n",
      "  1.1751005760163826]\n",
      " ...\n",
      " [0.0 4.638014757176166 2.448600009885075 -0.43089438992134627\n",
      "  0.882486598589378]\n",
      " [0.0 4.6602917009717215 0.33229771729959273 -0.5290973817760144\n",
      "  1.4677145534433873]\n",
      " [1.0 4.625003909739867 1.184572092908453 -0.5290973817760144\n",
      "  1.4677145534433873]]\n"
     ]
    }
   ],
   "source": [
    "from sklearn.preprocessing import StandardScaler\n",
    "\n",
    "# Standard scale all columns of x except the first two columns\n",
    "scaler = StandardScaler()\n",
    "x[:, 2:] = scaler.fit_transform(x[:, 2:])\n",
    "print(x)"
   ]
  },
  {
   "cell_type": "code",
   "execution_count": null,
   "id": "00b56318",
   "metadata": {
    "vscode": {
     "languageId": "markdown"
    }
   },
   "outputs": [],
   "source": []
  },
  {
   "cell_type": "code",
   "execution_count": 374,
   "id": "0ea8ac59",
   "metadata": {},
   "outputs": [],
   "source": [
    "from sklearn.model_selection import train_test_split\n",
    "x_train, x_test, y_train, y_test=train_test_split(x,y,test_size=.2,random_state=1)"
   ]
  },
  {
   "cell_type": "code",
   "execution_count": 375,
   "id": "a44c96c3",
   "metadata": {},
   "outputs": [
    {
     "data": {
      "text/html": [
       "<style>#sk-container-id-10 {\n",
       "  /* Definition of color scheme common for light and dark mode */\n",
       "  --sklearn-color-text: #000;\n",
       "  --sklearn-color-text-muted: #666;\n",
       "  --sklearn-color-line: gray;\n",
       "  /* Definition of color scheme for unfitted estimators */\n",
       "  --sklearn-color-unfitted-level-0: #fff5e6;\n",
       "  --sklearn-color-unfitted-level-1: #f6e4d2;\n",
       "  --sklearn-color-unfitted-level-2: #ffe0b3;\n",
       "  --sklearn-color-unfitted-level-3: chocolate;\n",
       "  /* Definition of color scheme for fitted estimators */\n",
       "  --sklearn-color-fitted-level-0: #f0f8ff;\n",
       "  --sklearn-color-fitted-level-1: #d4ebff;\n",
       "  --sklearn-color-fitted-level-2: #b3dbfd;\n",
       "  --sklearn-color-fitted-level-3: cornflowerblue;\n",
       "\n",
       "  /* Specific color for light theme */\n",
       "  --sklearn-color-text-on-default-background: var(--sg-text-color, var(--theme-code-foreground, var(--jp-content-font-color1, black)));\n",
       "  --sklearn-color-background: var(--sg-background-color, var(--theme-background, var(--jp-layout-color0, white)));\n",
       "  --sklearn-color-border-box: var(--sg-text-color, var(--theme-code-foreground, var(--jp-content-font-color1, black)));\n",
       "  --sklearn-color-icon: #696969;\n",
       "\n",
       "  @media (prefers-color-scheme: dark) {\n",
       "    /* Redefinition of color scheme for dark theme */\n",
       "    --sklearn-color-text-on-default-background: var(--sg-text-color, var(--theme-code-foreground, var(--jp-content-font-color1, white)));\n",
       "    --sklearn-color-background: var(--sg-background-color, var(--theme-background, var(--jp-layout-color0, #111)));\n",
       "    --sklearn-color-border-box: var(--sg-text-color, var(--theme-code-foreground, var(--jp-content-font-color1, white)));\n",
       "    --sklearn-color-icon: #878787;\n",
       "  }\n",
       "}\n",
       "\n",
       "#sk-container-id-10 {\n",
       "  color: var(--sklearn-color-text);\n",
       "}\n",
       "\n",
       "#sk-container-id-10 pre {\n",
       "  padding: 0;\n",
       "}\n",
       "\n",
       "#sk-container-id-10 input.sk-hidden--visually {\n",
       "  border: 0;\n",
       "  clip: rect(1px 1px 1px 1px);\n",
       "  clip: rect(1px, 1px, 1px, 1px);\n",
       "  height: 1px;\n",
       "  margin: -1px;\n",
       "  overflow: hidden;\n",
       "  padding: 0;\n",
       "  position: absolute;\n",
       "  width: 1px;\n",
       "}\n",
       "\n",
       "#sk-container-id-10 div.sk-dashed-wrapped {\n",
       "  border: 1px dashed var(--sklearn-color-line);\n",
       "  margin: 0 0.4em 0.5em 0.4em;\n",
       "  box-sizing: border-box;\n",
       "  padding-bottom: 0.4em;\n",
       "  background-color: var(--sklearn-color-background);\n",
       "}\n",
       "\n",
       "#sk-container-id-10 div.sk-container {\n",
       "  /* jupyter's `normalize.less` sets `[hidden] { display: none; }`\n",
       "     but bootstrap.min.css set `[hidden] { display: none !important; }`\n",
       "     so we also need the `!important` here to be able to override the\n",
       "     default hidden behavior on the sphinx rendered scikit-learn.org.\n",
       "     See: https://github.com/scikit-learn/scikit-learn/issues/21755 */\n",
       "  display: inline-block !important;\n",
       "  position: relative;\n",
       "}\n",
       "\n",
       "#sk-container-id-10 div.sk-text-repr-fallback {\n",
       "  display: none;\n",
       "}\n",
       "\n",
       "div.sk-parallel-item,\n",
       "div.sk-serial,\n",
       "div.sk-item {\n",
       "  /* draw centered vertical line to link estimators */\n",
       "  background-image: linear-gradient(var(--sklearn-color-text-on-default-background), var(--sklearn-color-text-on-default-background));\n",
       "  background-size: 2px 100%;\n",
       "  background-repeat: no-repeat;\n",
       "  background-position: center center;\n",
       "}\n",
       "\n",
       "/* Parallel-specific style estimator block */\n",
       "\n",
       "#sk-container-id-10 div.sk-parallel-item::after {\n",
       "  content: \"\";\n",
       "  width: 100%;\n",
       "  border-bottom: 2px solid var(--sklearn-color-text-on-default-background);\n",
       "  flex-grow: 1;\n",
       "}\n",
       "\n",
       "#sk-container-id-10 div.sk-parallel {\n",
       "  display: flex;\n",
       "  align-items: stretch;\n",
       "  justify-content: center;\n",
       "  background-color: var(--sklearn-color-background);\n",
       "  position: relative;\n",
       "}\n",
       "\n",
       "#sk-container-id-10 div.sk-parallel-item {\n",
       "  display: flex;\n",
       "  flex-direction: column;\n",
       "}\n",
       "\n",
       "#sk-container-id-10 div.sk-parallel-item:first-child::after {\n",
       "  align-self: flex-end;\n",
       "  width: 50%;\n",
       "}\n",
       "\n",
       "#sk-container-id-10 div.sk-parallel-item:last-child::after {\n",
       "  align-self: flex-start;\n",
       "  width: 50%;\n",
       "}\n",
       "\n",
       "#sk-container-id-10 div.sk-parallel-item:only-child::after {\n",
       "  width: 0;\n",
       "}\n",
       "\n",
       "/* Serial-specific style estimator block */\n",
       "\n",
       "#sk-container-id-10 div.sk-serial {\n",
       "  display: flex;\n",
       "  flex-direction: column;\n",
       "  align-items: center;\n",
       "  background-color: var(--sklearn-color-background);\n",
       "  padding-right: 1em;\n",
       "  padding-left: 1em;\n",
       "}\n",
       "\n",
       "\n",
       "/* Toggleable style: style used for estimator/Pipeline/ColumnTransformer box that is\n",
       "clickable and can be expanded/collapsed.\n",
       "- Pipeline and ColumnTransformer use this feature and define the default style\n",
       "- Estimators will overwrite some part of the style using the `sk-estimator` class\n",
       "*/\n",
       "\n",
       "/* Pipeline and ColumnTransformer style (default) */\n",
       "\n",
       "#sk-container-id-10 div.sk-toggleable {\n",
       "  /* Default theme specific background. It is overwritten whether we have a\n",
       "  specific estimator or a Pipeline/ColumnTransformer */\n",
       "  background-color: var(--sklearn-color-background);\n",
       "}\n",
       "\n",
       "/* Toggleable label */\n",
       "#sk-container-id-10 label.sk-toggleable__label {\n",
       "  cursor: pointer;\n",
       "  display: flex;\n",
       "  width: 100%;\n",
       "  margin-bottom: 0;\n",
       "  padding: 0.5em;\n",
       "  box-sizing: border-box;\n",
       "  text-align: center;\n",
       "  align-items: start;\n",
       "  justify-content: space-between;\n",
       "  gap: 0.5em;\n",
       "}\n",
       "\n",
       "#sk-container-id-10 label.sk-toggleable__label .caption {\n",
       "  font-size: 0.6rem;\n",
       "  font-weight: lighter;\n",
       "  color: var(--sklearn-color-text-muted);\n",
       "}\n",
       "\n",
       "#sk-container-id-10 label.sk-toggleable__label-arrow:before {\n",
       "  /* Arrow on the left of the label */\n",
       "  content: \"▸\";\n",
       "  float: left;\n",
       "  margin-right: 0.25em;\n",
       "  color: var(--sklearn-color-icon);\n",
       "}\n",
       "\n",
       "#sk-container-id-10 label.sk-toggleable__label-arrow:hover:before {\n",
       "  color: var(--sklearn-color-text);\n",
       "}\n",
       "\n",
       "/* Toggleable content - dropdown */\n",
       "\n",
       "#sk-container-id-10 div.sk-toggleable__content {\n",
       "  display: none;\n",
       "  text-align: left;\n",
       "  /* unfitted */\n",
       "  background-color: var(--sklearn-color-unfitted-level-0);\n",
       "}\n",
       "\n",
       "#sk-container-id-10 div.sk-toggleable__content.fitted {\n",
       "  /* fitted */\n",
       "  background-color: var(--sklearn-color-fitted-level-0);\n",
       "}\n",
       "\n",
       "#sk-container-id-10 div.sk-toggleable__content pre {\n",
       "  margin: 0.2em;\n",
       "  border-radius: 0.25em;\n",
       "  color: var(--sklearn-color-text);\n",
       "  /* unfitted */\n",
       "  background-color: var(--sklearn-color-unfitted-level-0);\n",
       "}\n",
       "\n",
       "#sk-container-id-10 div.sk-toggleable__content.fitted pre {\n",
       "  /* unfitted */\n",
       "  background-color: var(--sklearn-color-fitted-level-0);\n",
       "}\n",
       "\n",
       "#sk-container-id-10 input.sk-toggleable__control:checked~div.sk-toggleable__content {\n",
       "  /* Expand drop-down */\n",
       "  display: block;\n",
       "  width: 100%;\n",
       "  overflow: visible;\n",
       "}\n",
       "\n",
       "#sk-container-id-10 input.sk-toggleable__control:checked~label.sk-toggleable__label-arrow:before {\n",
       "  content: \"▾\";\n",
       "}\n",
       "\n",
       "/* Pipeline/ColumnTransformer-specific style */\n",
       "\n",
       "#sk-container-id-10 div.sk-label input.sk-toggleable__control:checked~label.sk-toggleable__label {\n",
       "  color: var(--sklearn-color-text);\n",
       "  background-color: var(--sklearn-color-unfitted-level-2);\n",
       "}\n",
       "\n",
       "#sk-container-id-10 div.sk-label.fitted input.sk-toggleable__control:checked~label.sk-toggleable__label {\n",
       "  background-color: var(--sklearn-color-fitted-level-2);\n",
       "}\n",
       "\n",
       "/* Estimator-specific style */\n",
       "\n",
       "/* Colorize estimator box */\n",
       "#sk-container-id-10 div.sk-estimator input.sk-toggleable__control:checked~label.sk-toggleable__label {\n",
       "  /* unfitted */\n",
       "  background-color: var(--sklearn-color-unfitted-level-2);\n",
       "}\n",
       "\n",
       "#sk-container-id-10 div.sk-estimator.fitted input.sk-toggleable__control:checked~label.sk-toggleable__label {\n",
       "  /* fitted */\n",
       "  background-color: var(--sklearn-color-fitted-level-2);\n",
       "}\n",
       "\n",
       "#sk-container-id-10 div.sk-label label.sk-toggleable__label,\n",
       "#sk-container-id-10 div.sk-label label {\n",
       "  /* The background is the default theme color */\n",
       "  color: var(--sklearn-color-text-on-default-background);\n",
       "}\n",
       "\n",
       "/* On hover, darken the color of the background */\n",
       "#sk-container-id-10 div.sk-label:hover label.sk-toggleable__label {\n",
       "  color: var(--sklearn-color-text);\n",
       "  background-color: var(--sklearn-color-unfitted-level-2);\n",
       "}\n",
       "\n",
       "/* Label box, darken color on hover, fitted */\n",
       "#sk-container-id-10 div.sk-label.fitted:hover label.sk-toggleable__label.fitted {\n",
       "  color: var(--sklearn-color-text);\n",
       "  background-color: var(--sklearn-color-fitted-level-2);\n",
       "}\n",
       "\n",
       "/* Estimator label */\n",
       "\n",
       "#sk-container-id-10 div.sk-label label {\n",
       "  font-family: monospace;\n",
       "  font-weight: bold;\n",
       "  display: inline-block;\n",
       "  line-height: 1.2em;\n",
       "}\n",
       "\n",
       "#sk-container-id-10 div.sk-label-container {\n",
       "  text-align: center;\n",
       "}\n",
       "\n",
       "/* Estimator-specific */\n",
       "#sk-container-id-10 div.sk-estimator {\n",
       "  font-family: monospace;\n",
       "  border: 1px dotted var(--sklearn-color-border-box);\n",
       "  border-radius: 0.25em;\n",
       "  box-sizing: border-box;\n",
       "  margin-bottom: 0.5em;\n",
       "  /* unfitted */\n",
       "  background-color: var(--sklearn-color-unfitted-level-0);\n",
       "}\n",
       "\n",
       "#sk-container-id-10 div.sk-estimator.fitted {\n",
       "  /* fitted */\n",
       "  background-color: var(--sklearn-color-fitted-level-0);\n",
       "}\n",
       "\n",
       "/* on hover */\n",
       "#sk-container-id-10 div.sk-estimator:hover {\n",
       "  /* unfitted */\n",
       "  background-color: var(--sklearn-color-unfitted-level-2);\n",
       "}\n",
       "\n",
       "#sk-container-id-10 div.sk-estimator.fitted:hover {\n",
       "  /* fitted */\n",
       "  background-color: var(--sklearn-color-fitted-level-2);\n",
       "}\n",
       "\n",
       "/* Specification for estimator info (e.g. \"i\" and \"?\") */\n",
       "\n",
       "/* Common style for \"i\" and \"?\" */\n",
       "\n",
       ".sk-estimator-doc-link,\n",
       "a:link.sk-estimator-doc-link,\n",
       "a:visited.sk-estimator-doc-link {\n",
       "  float: right;\n",
       "  font-size: smaller;\n",
       "  line-height: 1em;\n",
       "  font-family: monospace;\n",
       "  background-color: var(--sklearn-color-background);\n",
       "  border-radius: 1em;\n",
       "  height: 1em;\n",
       "  width: 1em;\n",
       "  text-decoration: none !important;\n",
       "  margin-left: 0.5em;\n",
       "  text-align: center;\n",
       "  /* unfitted */\n",
       "  border: var(--sklearn-color-unfitted-level-1) 1pt solid;\n",
       "  color: var(--sklearn-color-unfitted-level-1);\n",
       "}\n",
       "\n",
       ".sk-estimator-doc-link.fitted,\n",
       "a:link.sk-estimator-doc-link.fitted,\n",
       "a:visited.sk-estimator-doc-link.fitted {\n",
       "  /* fitted */\n",
       "  border: var(--sklearn-color-fitted-level-1) 1pt solid;\n",
       "  color: var(--sklearn-color-fitted-level-1);\n",
       "}\n",
       "\n",
       "/* On hover */\n",
       "div.sk-estimator:hover .sk-estimator-doc-link:hover,\n",
       ".sk-estimator-doc-link:hover,\n",
       "div.sk-label-container:hover .sk-estimator-doc-link:hover,\n",
       ".sk-estimator-doc-link:hover {\n",
       "  /* unfitted */\n",
       "  background-color: var(--sklearn-color-unfitted-level-3);\n",
       "  color: var(--sklearn-color-background);\n",
       "  text-decoration: none;\n",
       "}\n",
       "\n",
       "div.sk-estimator.fitted:hover .sk-estimator-doc-link.fitted:hover,\n",
       ".sk-estimator-doc-link.fitted:hover,\n",
       "div.sk-label-container:hover .sk-estimator-doc-link.fitted:hover,\n",
       ".sk-estimator-doc-link.fitted:hover {\n",
       "  /* fitted */\n",
       "  background-color: var(--sklearn-color-fitted-level-3);\n",
       "  color: var(--sklearn-color-background);\n",
       "  text-decoration: none;\n",
       "}\n",
       "\n",
       "/* Span, style for the box shown on hovering the info icon */\n",
       ".sk-estimator-doc-link span {\n",
       "  display: none;\n",
       "  z-index: 9999;\n",
       "  position: relative;\n",
       "  font-weight: normal;\n",
       "  right: .2ex;\n",
       "  padding: .5ex;\n",
       "  margin: .5ex;\n",
       "  width: min-content;\n",
       "  min-width: 20ex;\n",
       "  max-width: 50ex;\n",
       "  color: var(--sklearn-color-text);\n",
       "  box-shadow: 2pt 2pt 4pt #999;\n",
       "  /* unfitted */\n",
       "  background: var(--sklearn-color-unfitted-level-0);\n",
       "  border: .5pt solid var(--sklearn-color-unfitted-level-3);\n",
       "}\n",
       "\n",
       ".sk-estimator-doc-link.fitted span {\n",
       "  /* fitted */\n",
       "  background: var(--sklearn-color-fitted-level-0);\n",
       "  border: var(--sklearn-color-fitted-level-3);\n",
       "}\n",
       "\n",
       ".sk-estimator-doc-link:hover span {\n",
       "  display: block;\n",
       "}\n",
       "\n",
       "/* \"?\"-specific style due to the `<a>` HTML tag */\n",
       "\n",
       "#sk-container-id-10 a.estimator_doc_link {\n",
       "  float: right;\n",
       "  font-size: 1rem;\n",
       "  line-height: 1em;\n",
       "  font-family: monospace;\n",
       "  background-color: var(--sklearn-color-background);\n",
       "  border-radius: 1rem;\n",
       "  height: 1rem;\n",
       "  width: 1rem;\n",
       "  text-decoration: none;\n",
       "  /* unfitted */\n",
       "  color: var(--sklearn-color-unfitted-level-1);\n",
       "  border: var(--sklearn-color-unfitted-level-1) 1pt solid;\n",
       "}\n",
       "\n",
       "#sk-container-id-10 a.estimator_doc_link.fitted {\n",
       "  /* fitted */\n",
       "  border: var(--sklearn-color-fitted-level-1) 1pt solid;\n",
       "  color: var(--sklearn-color-fitted-level-1);\n",
       "}\n",
       "\n",
       "/* On hover */\n",
       "#sk-container-id-10 a.estimator_doc_link:hover {\n",
       "  /* unfitted */\n",
       "  background-color: var(--sklearn-color-unfitted-level-3);\n",
       "  color: var(--sklearn-color-background);\n",
       "  text-decoration: none;\n",
       "}\n",
       "\n",
       "#sk-container-id-10 a.estimator_doc_link.fitted:hover {\n",
       "  /* fitted */\n",
       "  background-color: var(--sklearn-color-fitted-level-3);\n",
       "}\n",
       "\n",
       ".estimator-table summary {\n",
       "    padding: .5rem;\n",
       "    font-family: monospace;\n",
       "    cursor: pointer;\n",
       "}\n",
       "\n",
       ".estimator-table details[open] {\n",
       "    padding-left: 0.1rem;\n",
       "    padding-right: 0.1rem;\n",
       "    padding-bottom: 0.3rem;\n",
       "}\n",
       "\n",
       ".estimator-table .parameters-table {\n",
       "    margin-left: auto !important;\n",
       "    margin-right: auto !important;\n",
       "}\n",
       "\n",
       ".estimator-table .parameters-table tr:nth-child(odd) {\n",
       "    background-color: #fff;\n",
       "}\n",
       "\n",
       ".estimator-table .parameters-table tr:nth-child(even) {\n",
       "    background-color: #f6f6f6;\n",
       "}\n",
       "\n",
       ".estimator-table .parameters-table tr:hover {\n",
       "    background-color: #e0e0e0;\n",
       "}\n",
       "\n",
       ".estimator-table table td {\n",
       "    border: 1px solid rgba(106, 105, 104, 0.232);\n",
       "}\n",
       "\n",
       ".user-set td {\n",
       "    color:rgb(255, 94, 0);\n",
       "    text-align: left;\n",
       "}\n",
       "\n",
       ".user-set td.value pre {\n",
       "    color:rgb(255, 94, 0) !important;\n",
       "    background-color: transparent !important;\n",
       "}\n",
       "\n",
       ".default td {\n",
       "    color: black;\n",
       "    text-align: left;\n",
       "}\n",
       "\n",
       ".user-set td i,\n",
       ".default td i {\n",
       "    color: black;\n",
       "}\n",
       "\n",
       ".copy-paste-icon {\n",
       "    background-image: url(data:image/svg+xml;base64,PHN2ZyB4bWxucz0iaHR0cDovL3d3dy53My5vcmcvMjAwMC9zdmciIHZpZXdCb3g9IjAgMCA0NDggNTEyIj48IS0tIUZvbnQgQXdlc29tZSBGcmVlIDYuNy4yIGJ5IEBmb250YXdlc29tZSAtIGh0dHBzOi8vZm9udGF3ZXNvbWUuY29tIExpY2Vuc2UgLSBodHRwczovL2ZvbnRhd2Vzb21lLmNvbS9saWNlbnNlL2ZyZWUgQ29weXJpZ2h0IDIwMjUgRm9udGljb25zLCBJbmMuLS0+PHBhdGggZD0iTTIwOCAwTDMzMi4xIDBjMTIuNyAwIDI0LjkgNS4xIDMzLjkgMTQuMWw2Ny45IDY3LjljOSA5IDE0LjEgMjEuMiAxNC4xIDMzLjlMNDQ4IDMzNmMwIDI2LjUtMjEuNSA0OC00OCA0OGwtMTkyIDBjLTI2LjUgMC00OC0yMS41LTQ4LTQ4bDAtMjg4YzAtMjYuNSAyMS41LTQ4IDQ4LTQ4ek00OCAxMjhsODAgMCAwIDY0LTY0IDAgMCAyNTYgMTkyIDAgMC0zMiA2NCAwIDAgNDhjMCAyNi41LTIxLjUgNDgtNDggNDhMNDggNTEyYy0yNi41IDAtNDgtMjEuNS00OC00OEwwIDE3NmMwLTI2LjUgMjEuNS00OCA0OC00OHoiLz48L3N2Zz4=);\n",
       "    background-repeat: no-repeat;\n",
       "    background-size: 14px 14px;\n",
       "    background-position: 0;\n",
       "    display: inline-block;\n",
       "    width: 14px;\n",
       "    height: 14px;\n",
       "    cursor: pointer;\n",
       "}\n",
       "</style><body><div id=\"sk-container-id-10\" class=\"sk-top-container\"><div class=\"sk-text-repr-fallback\"><pre>LinearRegression()</pre><b>In a Jupyter environment, please rerun this cell to show the HTML representation or trust the notebook. <br />On GitHub, the HTML representation is unable to render, please try loading this page with nbviewer.org.</b></div><div class=\"sk-container\" hidden><div class=\"sk-item\"><div class=\"sk-estimator fitted sk-toggleable\"><input class=\"sk-toggleable__control sk-hidden--visually\" id=\"sk-estimator-id-10\" type=\"checkbox\" checked><label for=\"sk-estimator-id-10\" class=\"sk-toggleable__label fitted sk-toggleable__label-arrow\"><div><div>LinearRegression</div></div><div><a class=\"sk-estimator-doc-link fitted\" rel=\"noreferrer\" target=\"_blank\" href=\"https://scikit-learn.org/1.7/modules/generated/sklearn.linear_model.LinearRegression.html\">?<span>Documentation for LinearRegression</span></a><span class=\"sk-estimator-doc-link fitted\">i<span>Fitted</span></span></div></label><div class=\"sk-toggleable__content fitted\" data-param-prefix=\"\">\n",
       "        <div class=\"estimator-table\">\n",
       "            <details>\n",
       "                <summary>Parameters</summary>\n",
       "                <table class=\"parameters-table\">\n",
       "                  <tbody>\n",
       "                    \n",
       "        <tr class=\"default\">\n",
       "            <td><i class=\"copy-paste-icon\"\n",
       "                 onclick=\"copyToClipboard('fit_intercept',\n",
       "                          this.parentElement.nextElementSibling)\"\n",
       "            ></i></td>\n",
       "            <td class=\"param\">fit_intercept&nbsp;</td>\n",
       "            <td class=\"value\">True</td>\n",
       "        </tr>\n",
       "    \n",
       "\n",
       "        <tr class=\"default\">\n",
       "            <td><i class=\"copy-paste-icon\"\n",
       "                 onclick=\"copyToClipboard('copy_X',\n",
       "                          this.parentElement.nextElementSibling)\"\n",
       "            ></i></td>\n",
       "            <td class=\"param\">copy_X&nbsp;</td>\n",
       "            <td class=\"value\">True</td>\n",
       "        </tr>\n",
       "    \n",
       "\n",
       "        <tr class=\"default\">\n",
       "            <td><i class=\"copy-paste-icon\"\n",
       "                 onclick=\"copyToClipboard('tol',\n",
       "                          this.parentElement.nextElementSibling)\"\n",
       "            ></i></td>\n",
       "            <td class=\"param\">tol&nbsp;</td>\n",
       "            <td class=\"value\">1e-06</td>\n",
       "        </tr>\n",
       "    \n",
       "\n",
       "        <tr class=\"default\">\n",
       "            <td><i class=\"copy-paste-icon\"\n",
       "                 onclick=\"copyToClipboard('n_jobs',\n",
       "                          this.parentElement.nextElementSibling)\"\n",
       "            ></i></td>\n",
       "            <td class=\"param\">n_jobs&nbsp;</td>\n",
       "            <td class=\"value\">None</td>\n",
       "        </tr>\n",
       "    \n",
       "\n",
       "        <tr class=\"default\">\n",
       "            <td><i class=\"copy-paste-icon\"\n",
       "                 onclick=\"copyToClipboard('positive',\n",
       "                          this.parentElement.nextElementSibling)\"\n",
       "            ></i></td>\n",
       "            <td class=\"param\">positive&nbsp;</td>\n",
       "            <td class=\"value\">False</td>\n",
       "        </tr>\n",
       "    \n",
       "                  </tbody>\n",
       "                </table>\n",
       "            </details>\n",
       "        </div>\n",
       "    </div></div></div></div></div><script>function copyToClipboard(text, element) {\n",
       "    // Get the parameter prefix from the closest toggleable content\n",
       "    const toggleableContent = element.closest('.sk-toggleable__content');\n",
       "    const paramPrefix = toggleableContent ? toggleableContent.dataset.paramPrefix : '';\n",
       "    const fullParamName = paramPrefix ? `${paramPrefix}${text}` : text;\n",
       "\n",
       "    const originalStyle = element.style;\n",
       "    const computedStyle = window.getComputedStyle(element);\n",
       "    const originalWidth = computedStyle.width;\n",
       "    const originalHTML = element.innerHTML.replace('Copied!', '');\n",
       "\n",
       "    navigator.clipboard.writeText(fullParamName)\n",
       "        .then(() => {\n",
       "            element.style.width = originalWidth;\n",
       "            element.style.color = 'green';\n",
       "            element.innerHTML = \"Copied!\";\n",
       "\n",
       "            setTimeout(() => {\n",
       "                element.innerHTML = originalHTML;\n",
       "                element.style = originalStyle;\n",
       "            }, 2000);\n",
       "        })\n",
       "        .catch(err => {\n",
       "            console.error('Failed to copy:', err);\n",
       "            element.style.color = 'red';\n",
       "            element.innerHTML = \"Failed!\";\n",
       "            setTimeout(() => {\n",
       "                element.innerHTML = originalHTML;\n",
       "                element.style = originalStyle;\n",
       "            }, 2000);\n",
       "        });\n",
       "    return false;\n",
       "}\n",
       "\n",
       "document.querySelectorAll('.fa-regular.fa-copy').forEach(function(element) {\n",
       "    const toggleableContent = element.closest('.sk-toggleable__content');\n",
       "    const paramPrefix = toggleableContent ? toggleableContent.dataset.paramPrefix : '';\n",
       "    const paramName = element.parentElement.nextElementSibling.textContent.trim();\n",
       "    const fullParamName = paramPrefix ? `${paramPrefix}${paramName}` : paramName;\n",
       "\n",
       "    element.setAttribute('title', fullParamName);\n",
       "});\n",
       "</script></body>"
      ],
      "text/plain": [
       "LinearRegression()"
      ]
     },
     "execution_count": 375,
     "metadata": {},
     "output_type": "execute_result"
    }
   ],
   "source": [
    "from sklearn.linear_model import LinearRegression\n",
    "regressor= LinearRegression()\n",
    "regressor.fit(x_train, y_train)"
   ]
  },
  {
   "cell_type": "code",
   "execution_count": 376,
   "id": "0d202666",
   "metadata": {},
   "outputs": [
    {
     "name": "stdout",
     "output_type": "stream",
     "text": [
      "R^2 Score (Accuracy): 0.8872769168391178\n",
      "Mean Absolute Error: 0.0518\n",
      "Mean Squared Error: 0.0060\n"
     ]
    }
   ],
   "source": [
    "from sklearn.metrics import mean_absolute_error, mean_squared_error, r2_score\n",
    "\n",
    "# Predict the target values for the test set\n",
    "y_pred = regressor.predict(x_test)\n",
    "\n",
    "# Calculate the R^2 score (accuracy for regression)\n",
    "accuracy = r2_score(y_test, y_pred)\n",
    "print(\"R^2 Score (Accuracy):\", accuracy)\n",
    "mae = mean_absolute_error(y_test, y_pred)\n",
    "print(f\"Mean Absolute Error: {mae:.4f}\")\n",
    "mse = mean_squared_error(y_test, y_pred)\n",
    "print(f\"Mean Squared Error: {mse:.4f}\")"
   ]
  },
  {
   "cell_type": "code",
   "execution_count": null,
   "id": "8c15bb7e",
   "metadata": {},
   "outputs": [],
   "source": []
  },
  {
   "cell_type": "code",
   "execution_count": 377,
   "id": "bc97fcfb",
   "metadata": {},
   "outputs": [
    {
     "name": "stdout",
     "output_type": "stream",
     "text": [
      "R² Score: 0.8873\n",
      "Mean Absolute Error: 0.0518\n",
      "Mean Squared Error: 0.0060\n",
      "Root Mean Squared Error: 0.0777\n",
      "Mean Squared Log Error: 0.0002\n",
      "Median Absolute Error: 0.0282\n",
      "Explained Variance Score: 0.8922\n"
     ]
    }
   ],
   "source": [
    "from sklearn.metrics import (\n",
    "    r2_score,\n",
    "    mean_absolute_error,\n",
    "    mean_squared_error,\n",
    "    mean_squared_log_error,\n",
    "    median_absolute_error,\n",
    "    explained_variance_score\n",
    ")\n",
    "\n",
    "# Predict on the test set to match y_test\n",
    "y_pred_test = regressor.predict(x_test)\n",
    "\n",
    "print(f\"R² Score: {r2_score(y_test, y_pred_test):.4f}\")\n",
    "print(f\"Mean Absolute Error: {mean_absolute_error(y_test, y_pred_test):.4f}\")\n",
    "print(f\"Mean Squared Error: {mean_squared_error(y_test, y_pred_test):.4f}\")\n",
    "# Compute RMSE manually for compatibility\n",
    "rmse = np.sqrt(mean_squared_error(y_test, y_pred_test))\n",
    "print(f\"Root Mean Squared Error: {rmse:.4f}\")\n",
    "print(f\"Mean Squared Log Error: {mean_squared_log_error(y_test, y_pred_test):.4f}\")\n",
    "print(f\"Median Absolute Error: {median_absolute_error(y_test, y_pred_test):.4f}\")\n",
    "print(f\"Explained Variance Score: {explained_variance_score(y_test, y_pred_test):.4f}\")"
   ]
  },
  {
   "cell_type": "code",
   "execution_count": 378,
   "id": "6c592393",
   "metadata": {},
   "outputs": [
    {
     "name": "stdout",
     "output_type": "stream",
     "text": [
      "Cross-Validated R²: 0.7918 ± 0.0882\n"
     ]
    }
   ],
   "source": [
    "from sklearn.model_selection import cross_val_score\n",
    "\n",
    "cv_scores = cross_val_score(regressor, x, y, cv=5, scoring='r2')\n",
    "print(f\"Cross-Validated R²: {cv_scores.mean():.4f} ± {cv_scores.std():.4f}\")"
   ]
  },
  {
   "cell_type": "code",
   "execution_count": 379,
   "id": "1b82917b",
   "metadata": {},
   "outputs": [
    {
     "data": {
      "image/png": "[encoded data removed]",
      "text/plain": [
       "<Figure size 1500x1500 with 1 Axes>"
      ]
     },
     "metadata": {},
     "output_type": "display_data"
    }
   ],
   "source": [
    "import matplotlib.pyplot as plt\n",
    "\n",
    "plt.figure(figsize=(15, 15))\n",
    "plt.scatter(y_test, y_pred, alpha=0.6)\n",
    "plt.plot([y_test.min(), y_test.max()], [y_test.min(), y_test.max()], 'r', lw=2)\n",
    "plt.xlabel('Actual')\n",
    "plt.ylabel('Predicted')\n",
    "plt.title('Actual vs Predicted Ratings')\n",
    "plt.grid(True)\n",
    "plt.show()"
   ]
  },
  {
   "cell_type": "code",
   "execution_count": 380,
   "id": "76710b6a",
   "metadata": {},
   "outputs": [
    {
     "name": "stdout",
     "output_type": "stream",
     "text": [
      "R^2 Score (Accuracy): 0.744058455333455\n",
      "Mean Absolute Error: 0.0547\n",
      "Mean Squared Error: 0.0116\n"
     ]
    }
   ],
   "source": [
    "from sklearn.metrics import mean_absolute_error, mean_squared_error, r2_score\n",
    "\n",
    "# Predict the target values for the test set\n",
    "y_pred = regressor.predict(x_train)\n",
    "\n",
    "# Calculate the R^2 score (accuracy for regression)\n",
    "accuracy = r2_score(y_train, y_pred)\n",
    "print(\"R^2 Score (Accuracy):\", accuracy)\n",
    "mae = mean_absolute_error(y_train, y_pred)\n",
    "print(f\"Mean Absolute Error: {mae:.4f}\")\n",
    "mse = mean_squared_error(y_train, y_pred)\n",
    "print(f\"Mean Squared Error: {mse:.4f}\")"
   ]
  },
  {
   "cell_type": "code",
   "execution_count": 381,
   "id": "cb4e4d47",
   "metadata": {},
   "outputs": [
    {
     "name": "stdout",
     "output_type": "stream",
     "text": [
      "Cross-Validated R²: 0.7918 ± 0.0882\n"
     ]
    }
   ],
   "source": [
    "from sklearn.model_selection import cross_val_score\n",
    "\n",
    "cv_scores = cross_val_score(regressor, x, y, cv=5, scoring='r2')\n",
    "print(f\"Cross-Validated R²: {cv_scores.mean():.4f} ± {cv_scores.std():.4f}\")"
   ]
  },
  {
   "cell_type": "code",
   "execution_count": null,
   "id": "4d5a7be0",
   "metadata": {},
   "outputs": [],
   "source": []
  },
  {
   "cell_type": "code",
   "execution_count": 382,
   "id": "a3736cc7",
   "metadata": {},
   "outputs": [
    {
     "name": "stdout",
     "output_type": "stream",
     "text": [
      "Shape of x: (315, 5)\n"
     ]
    }
   ],
   "source": [
    "print(\"Shape of x:\", x.shape)"
   ]
  },
  {
   "cell_type": "code",
   "execution_count": 383,
   "id": "860c3e4a",
   "metadata": {},
   "outputs": [],
   "source": [
    "ones=np.ones((315,1)).astype(int)\n",
    "x=np.append(ones,x,axis=1)"
   ]
  },
  {
   "cell_type": "code",
   "execution_count": 384,
   "id": "23838292",
   "metadata": {},
   "outputs": [
    {
     "name": "stdout",
     "output_type": "stream",
     "text": [
      "[[1 1.0 4.625003909739867 1.70775556992414 -0.5290973817760144\n",
      "  0.5898726211623734]\n",
      " [1 0.0 4.598872289954464 -0.9433410949933759 0.8457445041893393\n",
      "  -0.8731972659726498]\n",
      " [1 1.0 4.625003909739867 1.9900562933618857 0.1583235612066625\n",
      "  1.1751005760163826]\n",
      " ...\n",
      " [1 0.0 4.638014757176166 2.448600009885075 -0.43089438992134627\n",
      "  0.882486598589378]\n",
      " [1 0.0 4.6602917009717215 0.33229771729959273 -0.5290973817760144\n",
      "  1.4677145534433873]\n",
      " [1 1.0 4.625003909739867 1.184572092908453 -0.5290973817760144\n",
      "  1.4677145534433873]]\n"
     ]
    }
   ],
   "source": [
    "print(x)"
   ]
  },
  {
   "cell_type": "code",
   "execution_count": 385,
   "id": "f731cf2e",
   "metadata": {},
   "outputs": [
    {
     "name": "stdout",
     "output_type": "stream",
     "text": [
      "[[ 1.          1.          4.62500391  1.70775557 -0.52909738  0.58987262]\n",
      " [ 1.          0.          4.59887229 -0.94334109  0.8457445  -0.87319727]\n",
      " [ 1.          1.          4.62500391  1.99005629  0.15832356  1.17510058]\n",
      " ...\n",
      " [ 1.          0.          4.63801476  2.44860001 -0.43089439  0.8824866 ]\n",
      " [ 1.          0.          4.6602917   0.33229772 -0.52909738  1.46771455]\n",
      " [ 1.          1.          4.62500391  1.18457209 -0.52909738  1.46771455]]\n"
     ]
    }
   ],
   "source": [
    "x_opt=x[:,:]\n",
    "x_opt=x_opt.astype(np.float64)\n",
    "print(x_opt)"
   ]
  },
  {
   "cell_type": "code",
   "execution_count": 386,
   "id": "701da056",
   "metadata": {},
   "outputs": [
    {
     "data": {
      "text/html": [
       "<table class=\"simpletable\">\n",
       "<caption>OLS Regression Results</caption>\n",
       "<tr>\n",
       "  <th>Dep. Variable:</th>            <td>y</td>        <th>  R-squared:         </th> <td>   0.779</td>\n",
       "</tr>\n",
       "<tr>\n",
       "  <th>Model:</th>                   <td>OLS</td>       <th>  Adj. R-squared:    </th> <td>   0.775</td>\n",
       "</tr>\n",
       "<tr>\n",
       "  <th>Method:</th>             <td>Least Squares</td>  <th>  F-statistic:       </th> <td>   217.5</td>\n",
       "</tr>\n",
       "<tr>\n",
       "  <th>Date:</th>             <td>Sat, 05 Jul 2025</td> <th>  Prob (F-statistic):</th> <td>6.34e-99</td>\n",
       "</tr>\n",
       "<tr>\n",
       "  <th>Time:</th>                 <td>06:15:45</td>     <th>  Log-Likelihood:    </th> <td>  271.87</td>\n",
       "</tr>\n",
       "<tr>\n",
       "  <th>No. Observations:</th>      <td>   315</td>      <th>  AIC:               </th> <td>  -531.7</td>\n",
       "</tr>\n",
       "<tr>\n",
       "  <th>Df Residuals:</th>          <td>   309</td>      <th>  BIC:               </th> <td>  -509.2</td>\n",
       "</tr>\n",
       "<tr>\n",
       "  <th>Df Model:</th>              <td>     5</td>      <th>                     </th>     <td> </td>   \n",
       "</tr>\n",
       "<tr>\n",
       "  <th>Covariance Type:</th>      <td>nonrobust</td>    <th>                     </th>     <td> </td>   \n",
       "</tr>\n",
       "</table>\n",
       "<table class=\"simpletable\">\n",
       "<tr>\n",
       "    <td></td>       <th>coef</th>     <th>std err</th>      <th>t</th>      <th>P>|t|</th>  <th>[0.025</th>    <th>0.975]</th>  \n",
       "</tr>\n",
       "<tr>\n",
       "  <th>const</th> <td>  -26.2423</td> <td>    0.989</td> <td>  -26.531</td> <td> 0.000</td> <td>  -28.189</td> <td>  -24.296</td>\n",
       "</tr>\n",
       "<tr>\n",
       "  <th>x1</th>    <td>    0.0210</td> <td>    0.013</td> <td>    1.643</td> <td> 0.101</td> <td>   -0.004</td> <td>    0.046</td>\n",
       "</tr>\n",
       "<tr>\n",
       "  <th>x2</th>    <td>    6.6831</td> <td>    0.214</td> <td>   31.229</td> <td> 0.000</td> <td>    6.262</td> <td>    7.104</td>\n",
       "</tr>\n",
       "<tr>\n",
       "  <th>x3</th>    <td>    0.0129</td> <td>    0.007</td> <td>    1.893</td> <td> 0.059</td> <td>   -0.001</td> <td>    0.026</td>\n",
       "</tr>\n",
       "<tr>\n",
       "  <th>x4</th>    <td>    0.0118</td> <td>    0.006</td> <td>    2.012</td> <td> 0.045</td> <td>    0.000</td> <td>    0.023</td>\n",
       "</tr>\n",
       "<tr>\n",
       "  <th>x5</th>    <td>    0.0099</td> <td>    0.007</td> <td>    1.455</td> <td> 0.147</td> <td>   -0.003</td> <td>    0.023</td>\n",
       "</tr>\n",
       "</table>\n",
       "<table class=\"simpletable\">\n",
       "<tr>\n",
       "  <th>Omnibus:</th>       <td>363.456</td> <th>  Durbin-Watson:     </th> <td>   1.915</td> \n",
       "</tr>\n",
       "<tr>\n",
       "  <th>Prob(Omnibus):</th> <td> 0.000</td>  <th>  Jarque-Bera (JB):  </th> <td>49094.068</td>\n",
       "</tr>\n",
       "<tr>\n",
       "  <th>Skew:</th>          <td>-4.655</td>  <th>  Prob(JB):          </th> <td>    0.00</td> \n",
       "</tr>\n",
       "<tr>\n",
       "  <th>Kurtosis:</th>      <td>63.447</td>  <th>  Cond. No.          </th> <td>    829.</td> \n",
       "</tr>\n",
       "</table><br/><br/>Notes:<br/>[1] Standard Errors assume that the covariance matrix of the errors is correctly specified."
      ],
      "text/latex": [
       "\\begin{center}\n",
       "\\begin{tabular}{lclc}\n",
       "\\toprule\n",
       "\\textbf{Dep. Variable:}    &        y         & \\textbf{  R-squared:         } &     0.779   \\\\\n",
       "\\textbf{Model:}            &       OLS        & \\textbf{  Adj. R-squared:    } &     0.775   \\\\\n",
       "\\textbf{Method:}           &  Least Squares   & \\textbf{  F-statistic:       } &     217.5   \\\\\n",
       "\\textbf{Date:}             & Sat, 05 Jul 2025 & \\textbf{  Prob (F-statistic):} &  6.34e-99   \\\\\n",
       "\\textbf{Time:}             &     06:15:45     & \\textbf{  Log-Likelihood:    } &    271.87   \\\\\n",
       "\\textbf{No. Observations:} &         315      & \\textbf{  AIC:               } &    -531.7   \\\\\n",
       "\\textbf{Df Residuals:}     &         309      & \\textbf{  BIC:               } &    -509.2   \\\\\n",
       "\\textbf{Df Model:}         &           5      & \\textbf{                     } &             \\\\\n",
       "\\textbf{Covariance Type:}  &    nonrobust     & \\textbf{                     } &             \\\\\n",
       "\\bottomrule\n",
       "\\end{tabular}\n",
       "\\begin{tabular}{lcccccc}\n",
       "               & \\textbf{coef} & \\textbf{std err} & \\textbf{t} & \\textbf{P$> |$t$|$} & \\textbf{[0.025} & \\textbf{0.975]}  \\\\\n",
       "\\midrule\n",
       "\\textbf{const} &     -26.2423  &        0.989     &   -26.531  &         0.000        &      -28.189    &      -24.296     \\\\\n",
       "\\textbf{x1}    &       0.0210  &        0.013     &     1.643  &         0.101        &       -0.004    &        0.046     \\\\\n",
       "\\textbf{x2}    &       6.6831  &        0.214     &    31.229  &         0.000        &        6.262    &        7.104     \\\\\n",
       "\\textbf{x3}    &       0.0129  &        0.007     &     1.893  &         0.059        &       -0.001    &        0.026     \\\\\n",
       "\\textbf{x4}    &       0.0118  &        0.006     &     2.012  &         0.045        &        0.000    &        0.023     \\\\\n",
       "\\textbf{x5}    &       0.0099  &        0.007     &     1.455  &         0.147        &       -0.003    &        0.023     \\\\\n",
       "\\bottomrule\n",
       "\\end{tabular}\n",
       "\\begin{tabular}{lclc}\n",
       "\\textbf{Omnibus:}       & 363.456 & \\textbf{  Durbin-Watson:     } &     1.915  \\\\\n",
       "\\textbf{Prob(Omnibus):} &   0.000 & \\textbf{  Jarque-Bera (JB):  } & 49094.068  \\\\\n",
       "\\textbf{Skew:}          &  -4.655 & \\textbf{  Prob(JB):          } &      0.00  \\\\\n",
       "\\textbf{Kurtosis:}      &  63.447 & \\textbf{  Cond. No.          } &      829.  \\\\\n",
       "\\bottomrule\n",
       "\\end{tabular}\n",
       "%\\caption{OLS Regression Results}\n",
       "\\end{center}\n",
       "\n",
       "Notes: \\newline\n",
       " [1] Standard Errors assume that the covariance matrix of the errors is correctly specified."
      ],
      "text/plain": [
       "<class 'statsmodels.iolib.summary.Summary'>\n",
       "\"\"\"\n",
       "                            OLS Regression Results                            \n",
       "==============================================================================\n",
       "Dep. Variable:                      y   R-squared:                       0.779\n",
       "Model:                            OLS   Adj. R-squared:                  0.775\n",
       "Method:                 Least Squares   F-statistic:                     217.5\n",
       "Date:                Sat, 05 Jul 2025   Prob (F-statistic):           6.34e-99\n",
       "Time:                        06:15:45   Log-Likelihood:                 271.87\n",
       "No. Observations:                 315   AIC:                            -531.7\n",
       "Df Residuals:                     309   BIC:                            -509.2\n",
       "Df Model:                           5                                         \n",
       "Covariance Type:            nonrobust                                         \n",
       "==============================================================================\n",
       "                 coef    std err          t      P>|t|      [0.025      0.975]\n",
       "------------------------------------------------------------------------------\n",
       "const        -26.2423      0.989    -26.531      0.000     -28.189     -24.296\n",
       "x1             0.0210      0.013      1.643      0.101      -0.004       0.046\n",
       "x2             6.6831      0.214     31.229      0.000       6.262       7.104\n",
       "x3             0.0129      0.007      1.893      0.059      -0.001       0.026\n",
       "x4             0.0118      0.006      2.012      0.045       0.000       0.023\n",
       "x5             0.0099      0.007      1.455      0.147      -0.003       0.023\n",
       "==============================================================================\n",
       "Omnibus:                      363.456   Durbin-Watson:                   1.915\n",
       "Prob(Omnibus):                  0.000   Jarque-Bera (JB):            49094.068\n",
       "Skew:                          -4.655   Prob(JB):                         0.00\n",
       "Kurtosis:                      63.447   Cond. No.                         829.\n",
       "==============================================================================\n",
       "\n",
       "Notes:\n",
       "[1] Standard Errors assume that the covariance matrix of the errors is correctly specified.\n",
       "\"\"\""
      ]
     },
     "execution_count": 386,
     "metadata": {},
     "output_type": "execute_result"
    }
   ],
   "source": [
    "import statsmodels.api as sm\n",
    "regressor_OLS=sm.OLS(y,x_opt).fit()\n",
    "regressor_OLS.summary()"
   ]
  },
  {
   "cell_type": "code",
   "execution_count": 387,
   "id": "a225ae4e",
   "metadata": {},
   "outputs": [
    {
     "name": "stdout",
     "output_type": "stream",
     "text": [
      "Variance Inflation Factors (VIF):\n",
      "Feature 1: VIF = 1.17\n",
      "Feature 2: VIF = 1.09\n",
      "Feature 3: VIF = 1.37\n",
      "Feature 4: VIF = 1.02\n",
      "Feature 5: VIF = 1.38\n"
     ]
    }
   ],
   "source": [
    "from statsmodels.stats.outliers_influence import variance_inflation_factor\n",
    "\n",
    "# Calculate VIF for each feature in x_opt (excluding the intercept column)\n",
    "vif_data = []\n",
    "for i in range(1, x_opt.shape[1]):  # skip the intercept at index 0\n",
    "    vif = variance_inflation_factor(x_opt, i)\n",
    "    vif_data.append((i, vif))\n",
    "\n",
    "print(\"Variance Inflation Factors (VIF):\")\n",
    "for idx, vif in vif_data:\n",
    "    print(f\"Feature {idx}: VIF = {vif:.2f}\")"
   ]
  },
  {
   "cell_type": "code",
   "execution_count": 388,
   "id": "790119ad",
   "metadata": {},
   "outputs": [
    {
     "name": "stdout",
     "output_type": "stream",
     "text": [
      "Decision Tree R² Score: 0.7643\n",
      "Decision Tree MAE: 0.0580\n",
      "Decision Tree MSE: 0.0126\n"
     ]
    }
   ],
   "source": [
    "from sklearn.tree import DecisionTreeRegressor\n",
    "from sklearn.metrics import mean_squared_error, mean_absolute_error, r2_score\n",
    "\n",
    "# Train a Decision Tree Regressor\n",
    "dt_regressor = DecisionTreeRegressor(random_state=1)\n",
    "dt_regressor.fit(x_train, y_train)\n",
    "\n",
    "# Predict on the test set\n",
    "y_pred_dt = dt_regressor.predict(x_test)\n",
    "\n",
    "# Evaluate the model\n",
    "print(f\"Decision Tree R² Score: {r2_score(y_test, y_pred_dt):.4f}\")\n",
    "print(f\"Decision Tree MAE: {mean_absolute_error(y_test, y_pred_dt):.4f}\")\n",
    "print(f\"Decision Tree MSE: {mean_squared_error(y_test, y_pred_dt):.4f}\")"
   ]
  },
  {
   "cell_type": "code",
   "execution_count": 389,
   "id": "06bc53b9",
   "metadata": {},
   "outputs": [
    {
     "name": "stdout",
     "output_type": "stream",
     "text": [
      "Decision Tree R² Score: 0.7643\n",
      "Decision Tree MAE: 0.0580\n",
      "Decision Tree MSE: 0.0126\n"
     ]
    }
   ],
   "source": [
    "from sklearn.tree import DecisionTreeRegressor\n",
    "from sklearn.metrics import mean_squared_error, mean_absolute_error, r2_score\n",
    "\n",
    "# Train a Decision Tree Regressor\n",
    "dt_regressor = DecisionTreeRegressor(random_state=1)\n",
    "dt_regressor.fit(x_train, y_train)\n",
    "\n",
    "# Predict on the test set\n",
    "y_pred_dt = dt_regressor.predict(x_test)\n",
    "\n",
    "# Evaluate the model\n",
    "print(f\"Decision Tree R² Score: {r2_score(y_test, y_pred_dt):.4f}\")\n",
    "print(f\"Decision Tree MAE: {mean_absolute_error(y_test, y_pred_dt):.4f}\")\n",
    "print(f\"Decision Tree MSE: {mean_squared_error(y_test, y_pred_dt):.4f}\")"
   ]
  },
  {
   "cell_type": "code",
   "execution_count": 390,
   "id": "b9a31668",
   "metadata": {},
   "outputs": [
    {
     "name": "stdout",
     "output_type": "stream",
     "text": [
      "Gradient Boosting R² Score: 0.8451\n",
      "Gradient Boosting MAE: 0.0533\n",
      "Gradient Boosting MSE: 0.0083\n"
     ]
    }
   ],
   "source": [
    "from sklearn.ensemble import GradientBoostingRegressor\n",
    "from sklearn.metrics import r2_score, mean_absolute_error, mean_squared_error\n",
    "\n",
    "# Train a Gradient Boosting Regressor\n",
    "gb_regressor = GradientBoostingRegressor(random_state=1)\n",
    "gb_regressor.fit(x_train, y_train.ravel())  # Flatten y_train to 1D\n",
    "\n",
    "# Predict on the test set\n",
    "y_pred_gb = gb_regressor.predict(x_test)\n",
    "\n",
    "# Evaluate the model\n",
    "print(f\"Gradient Boosting R² Score: {r2_score(y_test, y_pred_gb):.4f}\")\n",
    "print(f\"Gradient Boosting MAE: {mean_absolute_error(y_test, y_pred_gb):.4f}\")\n",
    "print(f\"Gradient Boosting MSE: {mean_squared_error(y_test, y_pred_gb):.4f}\")"
   ]
  },
  {
   "cell_type": "code",
   "execution_count": 391,
   "id": "4bfd6b39",
   "metadata": {},
   "outputs": [
    {
     "data": {
      "image/png": "[encoded data removed]",
      "text/plain": [
       "<Figure size 1000x700 with 1 Axes>"
      ]
     },
     "metadata": {},
     "output_type": "display_data"
    }
   ],
   "source": [
    "plt.figure(figsize=(10, 7))\n",
    "plt.scatter(y_test, y_pred_gb, alpha=0.7, color='teal')\n",
    "plt.plot([y_test.min(), y_test.max()], [y_test.min(), y_test.max()], 'r--', lw=2)\n",
    "plt.xlabel('Actual User Rating')\n",
    "plt.ylabel('Predicted User Rating (Gradient Boosting)')\n",
    "plt.title('Actual vs Predicted User Rating (Gradient Boosting)')\n",
    "plt.grid(True)\n",
    "plt.show()"
   ]
  },
  {
   "cell_type": "code",
   "execution_count": 392,
   "id": "89917d4c",
   "metadata": {},
   "outputs": [
    {
     "name": "stdout",
     "output_type": "stream",
     "text": [
      "Gradient Boosting Cross-Validated R²: 0.2969 ± 0.7141\n"
     ]
    }
   ],
   "source": [
    "from sklearn.model_selection import cross_val_score\n",
    "\n",
    "# Perform 5-fold cross-validation for the Gradient Boosting Regressor\n",
    "cv_scores_gb = cross_val_score(gb_regressor, x, y.ravel(), cv=5, scoring='r2')\n",
    "print(f\"Gradient Boosting Cross-Validated R²: {cv_scores_gb.mean():.4f} ± {cv_scores_gb.std():.4f}\")"
   ]
  },
  {
   "cell_type": "code",
   "execution_count": 393,
   "id": "32fac5d2",
   "metadata": {},
   "outputs": [
    {
     "name": "stdout",
     "output_type": "stream",
     "text": [
      "XGBoost R² Score: 0.7702\n",
      "XGBoost MAE: 0.0528\n",
      "XGBoost MSE: 0.0123\n"
     ]
    }
   ],
   "source": [
    "from xgboost import XGBRegressor\n",
    "from sklearn.metrics import r2_score, mean_absolute_error, mean_squared_error\n",
    "\n",
    "# Train an XGBoost Regressor\n",
    "xgb_regressor = XGBRegressor(random_state=1, n_estimators=100)\n",
    "xgb_regressor.fit(x_train, y_train.ravel())\n",
    "\n",
    "# Predict on the test set\n",
    "y_pred_xgb = xgb_regressor.predict(x_test)\n",
    "\n",
    "# Evaluate the XGBoost model\n",
    "print(f\"XGBoost R² Score: {r2_score(y_test, y_pred_xgb):.4f}\")\n",
    "print(f\"XGBoost MAE: {mean_absolute_error(y_test, y_pred_xgb):.4f}\")\n",
    "print(f\"XGBoost MSE: {mean_squared_error(y_test, y_pred_xgb):.4f}\")"
   ]
  },
  {
   "cell_type": "code",
   "execution_count": 394,
   "id": "04dd1531",
   "metadata": {},
   "outputs": [
    {
     "data": {
      "image/png": "[encoded data removed]",
      "text/plain": [
       "<Figure size 1000x700 with 1 Axes>"
      ]
     },
     "metadata": {},
     "output_type": "display_data"
    }
   ],
   "source": [
    "plt.figure(figsize=(10, 7))\n",
    "plt.scatter(y_test, y_pred_xgb, alpha=0.7, color='blue')\n",
    "plt.plot([y_test.min(), y_test.max()], [y_test.min(), y_test.max()], 'r--', lw=2)\n",
    "plt.xlabel('Actual User Rating')\n",
    "plt.ylabel('Predicted User Rating (XGBoost)')\n",
    "plt.title('Actual vs Predicted User Rating (XGBoost)')\n",
    "plt.grid(True)\n",
    "plt.show()"
   ]
  },
  {
   "cell_type": "code",
   "execution_count": 395,
   "id": "fd3f87f6",
   "metadata": {},
   "outputs": [
    {
     "name": "stdout",
     "output_type": "stream",
     "text": [
      "XGBoost Cross-Validated R²: 0.2396 ± 0.8803\n"
     ]
    }
   ],
   "source": [
    "from sklearn.model_selection import cross_val_score\n",
    "\n",
    "# Perform 5-fold cross-validation for the XGBoost Regressor\n",
    "cv_scores_xgb = cross_val_score(xgb_regressor, x, y.ravel(), cv=5, scoring='r2')\n",
    "print(f\"XGBoost Cross-Validated R²: {cv_scores_xgb.mean():.4f} ± {cv_scores_xgb.std():.4f}\")"
   ]
  },
  {
   "cell_type": "code",
   "execution_count": 396,
   "id": "1b312d59",
   "metadata": {},
   "outputs": [
    {
     "name": "stdout",
     "output_type": "stream",
     "text": [
      "Bayesian Ridge R² Score: 0.8858\n",
      "Bayesian Ridge MAE: 0.0526\n",
      "Bayesian Ridge MSE: 0.0061\n"
     ]
    }
   ],
   "source": [
    "from sklearn.linear_model import BayesianRidge\n",
    "\n",
    "# Train a Bayesian Ridge Regression model\n",
    "bayesian_regressor = BayesianRidge()\n",
    "bayesian_regressor.fit(x_train, y_train.ravel())\n",
    "\n",
    "# Predict on the test set\n",
    "y_pred_bayes = bayesian_regressor.predict(x_test)\n",
    "\n",
    "# Evaluate the Bayesian Ridge Regression model\n",
    "print(f\"Bayesian Ridge R² Score: {r2_score(y_test, y_pred_bayes):.4f}\")\n",
    "print(f\"Bayesian Ridge MAE: {mean_absolute_error(y_test, y_pred_bayes):.4f}\")\n",
    "print(f\"Bayesian Ridge MSE: {mean_squared_error(y_test, y_pred_bayes):.4f}\")"
   ]
  },
  {
   "cell_type": "code",
   "execution_count": 397,
   "id": "7f6f783f",
   "metadata": {},
   "outputs": [
    {
     "name": "stdout",
     "output_type": "stream",
     "text": [
      "Polynomial Regression R² Score: 0.9114\n",
      "Polynomial Regression MAE: 0.0430\n",
      "Polynomial Regression MSE: 0.0047\n"
     ]
    }
   ],
   "source": [
    "from sklearn.preprocessing import PolynomialFeatures\n",
    "from sklearn.linear_model import LinearRegression\n",
    "from sklearn.metrics import r2_score, mean_absolute_error, mean_squared_error\n",
    "\n",
    "# Use degree 2 for polynomial regression as a common starting point\n",
    "poly = PolynomialFeatures(degree=2)\n",
    "x_train_poly = poly.fit_transform(x_train)\n",
    "x_test_poly = poly.transform(x_test)\n",
    "\n",
    "# Fit the polynomial regression model\n",
    "poly_regressor = LinearRegression()\n",
    "poly_regressor.fit(x_train_poly, y_train)\n",
    "\n",
    "# Predict on the test set\n",
    "y_pred_poly = poly_regressor.predict(x_test_poly)\n",
    "\n",
    "# Evaluate the model\n",
    "print(f\"Polynomial Regression R² Score: {r2_score(y_test, y_pred_poly):.4f}\")\n",
    "print(f\"Polynomial Regression MAE: {mean_absolute_error(y_test, y_pred_poly):.4f}\")\n",
    "print(f\"Polynomial Regression MSE: {mean_squared_error(y_test, y_pred_poly):.4f}\")"
   ]
  },
  {
   "cell_type": "code",
   "execution_count": 398,
   "id": "606f40d4",
   "metadata": {},
   "outputs": [
    {
     "name": "stdout",
     "output_type": "stream",
     "text": [
      "Random Forest R² Score: 0.8382\n",
      "Random Forest MAE: 0.0449\n",
      "Random Forest MSE: 0.0087\n"
     ]
    }
   ],
   "source": [
    "from sklearn.ensemble import RandomForestRegressor\n",
    "from sklearn.metrics import r2_score, mean_absolute_error, mean_squared_error\n",
    "\n",
    "# Train a Random Forest Regressor\n",
    "rf_regressor = RandomForestRegressor(random_state=1, n_estimators=100)\n",
    "rf_regressor.fit(x_train, y_train.ravel())\n",
    "\n",
    "# Predict on the test set\n",
    "y_pred_rf = rf_regressor.predict(x_test)\n",
    "\n",
    "# Evaluate the Random Forest model\n",
    "print(f\"Random Forest R² Score: {r2_score(y_test, y_pred_rf):.4f}\")\n",
    "print(f\"Random Forest MAE: {mean_absolute_error(y_test, y_pred_rf):.4f}\")\n",
    "print(f\"Random Forest MSE: {mean_squared_error(y_test, y_pred_rf):.4f}\")"
   ]
  },
  {
   "cell_type": "code",
   "execution_count": null,
   "id": "67cb2e5f",
   "metadata": {},
   "outputs": [],
   "source": []
  },
  {
   "cell_type": "code",
   "execution_count": null,
   "id": "0b1c2dc4",
   "metadata": {},
   "outputs": [],
   "source": []
  }
 ],
 "metadata": {
  "kernelspec": {
   "display_name": "env",
   "language": "python",
   "name": "python3"
  },
  "language_info": {
   "codemirror_mode": {
    "name": "ipython",
    "version": 3
   },
   "file_extension": ".py",
   "mimetype": "text/x-python",
   "name": "python",
   "nbconvert_exporter": "python",
   "pygments_lexer": "ipython3",
   "version": "3.12.10"
  }
 },
 "nbformat": 4,
 "nbformat_minor": 5
}
